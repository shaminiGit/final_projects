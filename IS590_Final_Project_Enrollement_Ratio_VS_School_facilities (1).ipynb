{
 "cells": [
  {
   "cell_type": "markdown",
   "metadata": {},
   "source": [
    "# IS 590 Final Project: Relationship between School Facilities in different levels VS Enrollment Ratio in Schools in India"
   ]
  },
  {
   "cell_type": "markdown",
   "metadata": {},
   "source": [
    "Hypothesis: There could be a direct or indirect realtionship between the water,electricity,computer, washroom facilities and Enrollment ratio in schools in each state in India."
   ]
  },
  {
   "cell_type": "raw",
   "metadata": {},
   "source": [
    "Datasets Name   : 1) Gross Enrolment Ratio from 2013-14 to 2015-16\n",
    "                  2) Percentage of Schools with Computers from 2013-14 to 2015-16\n",
    "                  3) Percentage of Schools with Drinking Water Facility from 2013-14 to 2015-16\n",
    "                  4) Percentage of Schools with Electricity from 2013-14 to 2015-16\n",
    "                  5) Schools with Boys Toilet from 2013-14 to 2015-16\n",
    "                  6) Schools with Girls Toilet from 2013-14 to 2015-16\n",
    "Dataset Format : CSV\n",
    "Dataset Source : https://data.gov.in/\n",
    "Dataset URL    : https://data.gov.in/catalog/school-education-statistics?filters%5Bfield_catalog_reference%5D=4241621&format=json&offset=0&limit=6&sort%5Bcreated%5D=desc\n"
   ]
  },
  {
   "cell_type": "code",
   "execution_count": 1,
   "metadata": {},
   "outputs": [],
   "source": [
    "import pandas as pd\n",
    "import matplotlib.pyplot as plt\n",
    "import numpy as np\n",
    "import seaborn as sns\n",
    "import bqplot\n",
    "sns.set(style = \"darkgrid\", color_codes=True)\n",
    "import ipywidgets as pw\n",
    "import traitlets"
   ]
  },
  {
   "cell_type": "code",
   "execution_count": 2,
   "metadata": {},
   "outputs": [],
   "source": [
    "df_enrol = pd.read_csv(\"GER_1.csv\")\n"
   ]
  },
  {
   "cell_type": "markdown",
   "metadata": {},
   "source": [
    "Choosing only year \"2014 to 2015\" - Common year among all the data sets:"
   ]
  },
  {
   "cell_type": "code",
   "execution_count": 3,
   "metadata": {},
   "outputs": [],
   "source": [
    "df_enrolNew = df_enrol[df_enrol.Year == '2014-15']"
   ]
  },
  {
   "cell_type": "markdown",
   "metadata": {},
   "source": [
    "In the year 2014-2015, India had total of 28 States and 8 Union territories:\n",
    "(Dataset has one additional column as \"All India\" making it 37)\n",
    "Curently total Union Territiories = 9"
   ]
  },
  {
   "cell_type": "code",
   "execution_count": 4,
   "metadata": {},
   "outputs": [
    {
     "data": {
      "text/plain": [
       "37"
      ]
     },
     "execution_count": 4,
     "metadata": {},
     "output_type": "execute_result"
    }
   ],
   "source": [
    "df_enrolNew['State_UT'].nunique()"
   ]
  },
  {
   "cell_type": "code",
   "execution_count": 5,
   "metadata": {},
   "outputs": [
    {
     "data": {
      "text/plain": [
       "array(['Andaman & Nicobar Islands', 'Andhra Pradesh', 'Arunachal Pradesh',\n",
       "       'Assam', 'Bihar', 'Chandigarh', 'Chhattisgarh',\n",
       "       'Dadra & Nagar Haveli', 'Daman & Diu', 'Delhi', 'Goa', 'Gujarat',\n",
       "       'Haryana', 'Himachal Pradesh', 'Jammu And Kashmir', 'Jharkhand',\n",
       "       'Karnataka', 'Kerala', 'Lakshadweep', 'Madhya Pradesh',\n",
       "       'Maharashtra', 'Manipur', 'Meghalaya', 'Mizoram', 'Nagaland',\n",
       "       'Odisha', 'Pondicherry', 'Punjab', 'Rajasthan', 'Sikkim',\n",
       "       'Tamil Nadu', 'Telangana', 'Tripura', 'Uttar Pradesh',\n",
       "       'Uttaranchal', 'West Bengal', 'All India'], dtype=object)"
      ]
     },
     "execution_count": 5,
     "metadata": {},
     "output_type": "execute_result"
    }
   ],
   "source": [
    "df_enrolNew['State_UT'].values"
   ]
  },
  {
   "cell_type": "code",
   "execution_count": null,
   "metadata": {},
   "outputs": [],
   "source": []
  },
  {
   "cell_type": "code",
   "execution_count": null,
   "metadata": {},
   "outputs": [],
   "source": []
  },
  {
   "cell_type": "markdown",
   "metadata": {},
   "source": [
    "Different Levels in Indian Education:\n",
    "\n",
    "1) Primary-->  age-- 6 to 10 years\n",
    "2) Upper Primary--> age-- 11 to 12 years\n",
    "3) Secondary--> age -- 13 to 15 years\n",
    "4) Higher Sec--> age-- 16 to 17 years\n",
    "\n",
    "\n"
   ]
  },
  {
   "cell_type": "code",
   "execution_count": 6,
   "metadata": {},
   "outputs": [
    {
     "name": "stderr",
     "output_type": "stream",
     "text": [
      "C:\\Users\\shami\\Anaconda3\\lib\\site-packages\\ipykernel_launcher.py:1: SettingWithCopyWarning: \n",
      "A value is trying to be set on a copy of a slice from a DataFrame.\n",
      "Try using .loc[row_indexer,col_indexer] = value instead\n",
      "\n",
      "See the caveats in the documentation: http://pandas.pydata.org/pandas-docs/stable/user_guide/indexing.html#returning-a-view-versus-a-copy\n",
      "  \"\"\"Entry point for launching an IPython kernel.\n"
     ]
    }
   ],
   "source": [
    "df_enrolNew['Average']=df_enrolNew[['Primary_Total','Upper_Primary_Total' ,'Secondary_Total', 'Higher_Secondary_Total']].mean(axis=1)"
   ]
  },
  {
   "cell_type": "code",
   "execution_count": null,
   "metadata": {},
   "outputs": [],
   "source": [
    "# trying to access the variable\"top_ten_states\" outside the function by creating a function attribute \"top.top_ten_states\"\n",
    "#Not very sure if this could be a right approach."
   ]
  },
  {
   "cell_type": "code",
   "execution_count": 92,
   "metadata": {},
   "outputs": [],
   "source": [
    "def top(df_enrolNew):\n",
    "    '''\n",
    "    This function will give the top ten states that has highest enrollment ratio.\n",
    "    '''\n",
    "    states = pd.DataFrame(df_enrolNew.groupby(\"State_UT\")[\"Average\"].sum())\n",
    "    Avg_state = states.sort_values(by='Average',ascending=False)\n",
    "    top.top_ten_states = Avg_state.iloc[0:5]\n",
    "    vals4 = top_ten_states[\"Average\"].values\n",
    "    return vals4\n",
    "  "
   ]
  },
  {
   "cell_type": "code",
   "execution_count": 93,
   "metadata": {},
   "outputs": [
    {
     "name": "stdout",
     "output_type": "stream",
     "text": [
      "                      Average\n",
      "State_UT                     \n",
      "Sikkim             121.496667\n",
      "Mizoram            119.213333\n",
      "Tripura            117.030000\n",
      "Manipur            114.586667\n",
      "Arunachal Pradesh  114.093333\n",
      "Highest Enrollment Ratio are: [49.795  50.     66.865  74.4925 74.575 ]\n"
     ]
    }
   ],
   "source": [
    "obj=top(df_enrolNew)\n",
    "print(top.top_ten_states)\n",
    "print(\"Highest Enrollment Ratio are:\",obj)"
   ]
  },
  {
   "cell_type": "markdown",
   "metadata": {},
   "source": [
    "Top 5 States with High Enrollment Ratio:"
   ]
  },
  {
   "cell_type": "code",
   "execution_count": 24,
   "metadata": {},
   "outputs": [
    {
     "data": {
      "image/png": "[encoded data removed]",
      "text/plain": [
       "<Figure size 432x288 with 1 Axes>"
      ]
     },
     "metadata": {},
     "output_type": "display_data"
    }
   ],
   "source": [
    "plt.barh(top.top_ten_states.index.values,top.top_ten_states[\"Average\"],color = '#157EA5', edgecolor='black')\n",
    "plt.xlabel(\"Total Enrollment Ratio\", fontsize = 15)\n",
    "plt.ylabel(\"Top 5 States\", fontsize = 15)\n",
    "\n",
    "for i, v in enumerate(vals4):\n",
    "    plt.text(v + 20, i - .02, str(v), fontsize = 9, fontweight='bold')"
   ]
  },
  {
   "cell_type": "markdown",
   "metadata": {},
   "source": [
    "5 States with Least Enrollment Ratio: "
   ]
  },
  {
   "cell_type": "code",
   "execution_count": 90,
   "metadata": {},
   "outputs": [],
   "source": [
    "def least(df_enrolNew):\n",
    "    '''\n",
    "    This function will give the least ten states that has highest enrollment ratio.\n",
    "    '''\n",
    "    states = pd.DataFrame(df_enrolNew.groupby(\"State_UT\")[\"Average\"].sum())\n",
    "    Avg_state = states.sort_values(by='Average')\n",
    "    least.top_ten_states = Avg_state.iloc[0:5]\n",
    "    vals4 = top_ten_states[\"Average\"].values\n",
    "    return vals4\n"
   ]
  },
  {
   "cell_type": "code",
   "execution_count": 91,
   "metadata": {},
   "outputs": [
    {
     "name": "stdout",
     "output_type": "stream",
     "text": [
      "States with Least Enrollment Ratio :                      Average\n",
      "State_UT                    \n",
      "Jammu And Kashmir  74.383333\n",
      "Uttar Pradesh      79.110000\n",
      "Andhra Pradesh     80.026667\n",
      "Daman & Diu        81.346667\n",
      "Rajasthan          86.863333\n"
     ]
    }
   ],
   "source": [
    "least(df_enrolNew)\n",
    "print(\"States with Least Enrollment Ratio :\",least.top_ten_states)\n"
   ]
  },
  {
   "cell_type": "code",
   "execution_count": 31,
   "metadata": {},
   "outputs": [
    {
     "data": {
      "image/png": "[encoded data removed]",
      "text/plain": [
       "<Figure size 432x288 with 1 Axes>"
      ]
     },
     "metadata": {},
     "output_type": "display_data"
    }
   ],
   "source": [
    "plt.barh(least.top_ten_states.index.values,top_ten_states[\"Average\"],color = '#157EA5', edgecolor='black')\n",
    "plt.xlabel(\"Total Enrollment Ratio\", fontsize = 15)\n",
    "plt.ylabel(\"Least 5 States\", fontsize = 15)\n",
    "\n",
    "for i, v in enumerate(vals4):\n",
    "    plt.text(v + 20, i - .02, str(v), fontsize = 9, fontweight='bold')\n"
   ]
  },
  {
   "cell_type": "code",
   "execution_count": null,
   "metadata": {},
   "outputs": [],
   "source": [
    "\n"
   ]
  },
  {
   "cell_type": "code",
   "execution_count": null,
   "metadata": {},
   "outputs": [],
   "source": []
  },
  {
   "cell_type": "markdown",
   "metadata": {},
   "source": [
    "Data Pre-Processing:\n",
    "Forming a new dataframe combining the columns \"Primary\" \"Upper_Primary\" \"Secondary\" \"Higher_Secondary\" from all six datasets. "
   ]
  },
  {
   "cell_type": "code",
   "execution_count": null,
   "metadata": {},
   "outputs": [],
   "source": []
  },
  {
   "cell_type": "code",
   "execution_count": 34,
   "metadata": {},
   "outputs": [],
   "source": [
    "df_E = df_enrol[df_enrol.Year == '2014-15']"
   ]
  },
  {
   "cell_type": "code",
   "execution_count": null,
   "metadata": {},
   "outputs": [],
   "source": [
    "#Selecting the below columns since the quantify the four different levels of education best. "
   ]
  },
  {
   "cell_type": "code",
   "execution_count": 35,
   "metadata": {},
   "outputs": [],
   "source": [
    "df_E = df_E [['State_UT','Primary_Total','Upper_Primary_Total','Secondary_Total','Higher_Secondary_Total']]"
   ]
  },
  {
   "cell_type": "code",
   "execution_count": 36,
   "metadata": {
    "scrolled": true
   },
   "outputs": [],
   "source": [
    "df_E.columns=['State','E_Primary','E_Upper_Primary','E_Secondary','E_High_Sec']"
   ]
  },
  {
   "cell_type": "code",
   "execution_count": 37,
   "metadata": {},
   "outputs": [
    {
     "data": {
      "text/html": [
       "<div>\n",
       "<style scoped>\n",
       "    .dataframe tbody tr th:only-of-type {\n",
       "        vertical-align: middle;\n",
       "    }\n",
       "\n",
       "    .dataframe tbody tr th {\n",
       "        vertical-align: top;\n",
       "    }\n",
       "\n",
       "    .dataframe thead th {\n",
       "        text-align: right;\n",
       "    }\n",
       "</style>\n",
       "<table border=\"1\" class=\"dataframe\">\n",
       "  <thead>\n",
       "    <tr style=\"text-align: right;\">\n",
       "      <th></th>\n",
       "      <th>State</th>\n",
       "      <th>E_Primary</th>\n",
       "      <th>E_Upper_Primary</th>\n",
       "      <th>E_Secondary</th>\n",
       "      <th>E_High_Sec</th>\n",
       "    </tr>\n",
       "  </thead>\n",
       "  <tbody>\n",
       "    <tr>\n",
       "      <td>73</td>\n",
       "      <td>Andaman &amp; Nicobar Islands</td>\n",
       "      <td>90.92</td>\n",
       "      <td>87.62</td>\n",
       "      <td>92.88</td>\n",
       "      <td>95.65</td>\n",
       "    </tr>\n",
       "    <tr>\n",
       "      <td>74</td>\n",
       "      <td>Andhra Pradesh</td>\n",
       "      <td>88.21</td>\n",
       "      <td>79.47</td>\n",
       "      <td>72.40</td>\n",
       "      <td>51.63</td>\n",
       "    </tr>\n",
       "    <tr>\n",
       "      <td>75</td>\n",
       "      <td>Arunachal Pradesh</td>\n",
       "      <td>128.13</td>\n",
       "      <td>122.53</td>\n",
       "      <td>91.62</td>\n",
       "      <td>68.71</td>\n",
       "    </tr>\n",
       "    <tr>\n",
       "      <td>76</td>\n",
       "      <td>Assam</td>\n",
       "      <td>114.96</td>\n",
       "      <td>95.86</td>\n",
       "      <td>74.78</td>\n",
       "      <td>33.97</td>\n",
       "    </tr>\n",
       "    <tr>\n",
       "      <td>77</td>\n",
       "      <td>Bihar</td>\n",
       "      <td>101.09</td>\n",
       "      <td>98.07</td>\n",
       "      <td>69.09</td>\n",
       "      <td>31.79</td>\n",
       "    </tr>\n",
       "  </tbody>\n",
       "</table>\n",
       "</div>"
      ],
      "text/plain": [
       "                        State  E_Primary  E_Upper_Primary  E_Secondary  \\\n",
       "73  Andaman & Nicobar Islands      90.92            87.62        92.88   \n",
       "74             Andhra Pradesh      88.21            79.47        72.40   \n",
       "75          Arunachal Pradesh     128.13           122.53        91.62   \n",
       "76                      Assam     114.96            95.86        74.78   \n",
       "77                      Bihar     101.09            98.07        69.09   \n",
       "\n",
       "   E_High_Sec  \n",
       "73      95.65  \n",
       "74      51.63  \n",
       "75      68.71  \n",
       "76      33.97  \n",
       "77      31.79  "
      ]
     },
     "execution_count": 37,
     "metadata": {},
     "output_type": "execute_result"
    }
   ],
   "source": [
    "df_E .head()"
   ]
  },
  {
   "cell_type": "code",
   "execution_count": 38,
   "metadata": {},
   "outputs": [
    {
     "data": {
      "text/plain": [
       "Index(['State_UT', 'Year', 'Primary_Boys', 'Primary_Girls', 'Primary_Total',\n",
       "       'Upper_Primary_Boys', 'Upper_Primary_Girls', 'Upper_Primary_Total',\n",
       "       'Secondary_Boys', 'Secondary_Girls', 'Secondary_Total',\n",
       "       'Higher_Secondary_Boys', 'Higher_Secondary_Girls',\n",
       "       'Higher_Secondary_Total'],\n",
       "      dtype='object')"
      ]
     },
     "execution_count": 38,
     "metadata": {},
     "output_type": "execute_result"
    }
   ],
   "source": [
    "df_enrol.columns"
   ]
  },
  {
   "cell_type": "code",
   "execution_count": 39,
   "metadata": {},
   "outputs": [],
   "source": [
    "df_comp = pd.read_csv(\"schools_with_computer.csv\")\n",
    "df_elec =  pd.read_csv(\"schools_with_electricity.csv\")"
   ]
  },
  {
   "cell_type": "code",
   "execution_count": 40,
   "metadata": {},
   "outputs": [
    {
     "data": {
      "text/plain": [
       "Index(['State_UT', 'year', 'Primary_Only', 'Primary_with_U_Primary',\n",
       "       'Primary_with_U_Primary_Sec_HrSec', 'U_Primary_Only',\n",
       "       'U_Primary_With_Sec_HrSec', 'Primary_with_U_Primary_Sec',\n",
       "       'U_Primary_With_Sec', 'Sec_Only', 'Sec_with_HrSec.', 'HrSec_Only',\n",
       "       'All Schools'],\n",
       "      dtype='object')"
      ]
     },
     "execution_count": 40,
     "metadata": {},
     "output_type": "execute_result"
    }
   ],
   "source": [
    "df_comp.columns"
   ]
  },
  {
   "cell_type": "code",
   "execution_count": 41,
   "metadata": {},
   "outputs": [],
   "source": [
    "df_comp= df_comp[df_comp.year == '2014-15']"
   ]
  },
  {
   "cell_type": "code",
   "execution_count": 42,
   "metadata": {},
   "outputs": [],
   "source": [
    "df_comp = df_comp [['State_UT','Primary_Only','Primary_with_U_Primary','U_Primary_With_Sec','Sec_with_HrSec.']]"
   ]
  },
  {
   "cell_type": "code",
   "execution_count": 43,
   "metadata": {},
   "outputs": [],
   "source": [
    "df_comp.columns=['State','C_Primary','C_Upper_Primary','C_Secondary','C_High_Sec']"
   ]
  },
  {
   "cell_type": "code",
   "execution_count": 44,
   "metadata": {},
   "outputs": [
    {
     "data": {
      "text/html": [
       "<div>\n",
       "<style scoped>\n",
       "    .dataframe tbody tr th:only-of-type {\n",
       "        vertical-align: middle;\n",
       "    }\n",
       "\n",
       "    .dataframe tbody tr th {\n",
       "        vertical-align: top;\n",
       "    }\n",
       "\n",
       "    .dataframe thead th {\n",
       "        text-align: right;\n",
       "    }\n",
       "</style>\n",
       "<table border=\"1\" class=\"dataframe\">\n",
       "  <thead>\n",
       "    <tr style=\"text-align: right;\">\n",
       "      <th></th>\n",
       "      <th>State</th>\n",
       "      <th>C_Primary</th>\n",
       "      <th>C_Upper_Primary</th>\n",
       "      <th>C_Secondary</th>\n",
       "      <th>C_High_Sec</th>\n",
       "    </tr>\n",
       "  </thead>\n",
       "  <tbody>\n",
       "    <tr>\n",
       "      <td>1</td>\n",
       "      <td>Andaman &amp; Nicobar Islands</td>\n",
       "      <td>30.94</td>\n",
       "      <td>76.54</td>\n",
       "      <td>0.00</td>\n",
       "      <td>100.00</td>\n",
       "    </tr>\n",
       "    <tr>\n",
       "      <td>4</td>\n",
       "      <td>Andhra Pradesh</td>\n",
       "      <td>10.29</td>\n",
       "      <td>44.15</td>\n",
       "      <td>76.59</td>\n",
       "      <td>66.67</td>\n",
       "    </tr>\n",
       "    <tr>\n",
       "      <td>7</td>\n",
       "      <td>Arunachal Pradesh</td>\n",
       "      <td>4.06</td>\n",
       "      <td>43.83</td>\n",
       "      <td>81.58</td>\n",
       "      <td>62.96</td>\n",
       "    </tr>\n",
       "    <tr>\n",
       "      <td>10</td>\n",
       "      <td>Assam</td>\n",
       "      <td>1.13</td>\n",
       "      <td>30.75</td>\n",
       "      <td>61.40</td>\n",
       "      <td>36.97</td>\n",
       "    </tr>\n",
       "    <tr>\n",
       "      <td>13</td>\n",
       "      <td>Bihar</td>\n",
       "      <td>2.29</td>\n",
       "      <td>11.15</td>\n",
       "      <td>15.14</td>\n",
       "      <td>46.43</td>\n",
       "    </tr>\n",
       "  </tbody>\n",
       "</table>\n",
       "</div>"
      ],
      "text/plain": [
       "                        State  C_Primary  C_Upper_Primary  C_Secondary  \\\n",
       "1   Andaman & Nicobar Islands      30.94            76.54         0.00   \n",
       "4              Andhra Pradesh      10.29            44.15        76.59   \n",
       "7           Arunachal Pradesh       4.06            43.83        81.58   \n",
       "10                      Assam       1.13            30.75        61.40   \n",
       "13                      Bihar       2.29            11.15        15.14   \n",
       "\n",
       "    C_High_Sec  \n",
       "1       100.00  \n",
       "4        66.67  \n",
       "7        62.96  \n",
       "10       36.97  \n",
       "13       46.43  "
      ]
     },
     "execution_count": 44,
     "metadata": {},
     "output_type": "execute_result"
    }
   ],
   "source": [
    "df_comp.head()"
   ]
  },
  {
   "cell_type": "markdown",
   "metadata": {},
   "source": [
    "States with least percentage of computer facility in schools:"
   ]
  },
  {
   "cell_type": "code",
   "execution_count": 45,
   "metadata": {},
   "outputs": [],
   "source": [
    "df_comp['Average']=df_comp[['C_Primary','C_Upper_Primary' ,'C_Secondary', 'C_High_Sec']].mean(axis=1)"
   ]
  },
  {
   "cell_type": "code",
   "execution_count": null,
   "metadata": {},
   "outputs": [],
   "source": []
  },
  {
   "cell_type": "code",
   "execution_count": 94,
   "metadata": {},
   "outputs": [],
   "source": [
    "def leastComp(df_comp):\n",
    "    states = pd.DataFrame(df_comp.groupby(\"State\")[\"Average\"].sum())\n",
    "    Avg_state = states.sort_values(by='Average')\n",
    "    leastComp.top_ten_states = Avg_state.iloc[0:5]\n",
    "    vals4 = top_ten_states[\"Average\"].values\n",
    "    return vals4\n"
   ]
  },
  {
   "cell_type": "code",
   "execution_count": 95,
   "metadata": {},
   "outputs": [
    {
     "name": "stdout",
     "output_type": "stream",
     "text": [
      "Least 5 states by percentage of availability of computer facility:                Average\n",
      "State                 \n",
      "Mizoram        14.5450\n",
      "Odisha         16.6475\n",
      "Tripura        17.3550\n",
      "Bihar          18.7525\n",
      "Uttar Pradesh  20.3825\n"
     ]
    }
   ],
   "source": [
    "leastComp(df_comp)\n",
    "print(\"Least 5 states by percentage of availability of computer facility:\",leastComp.top_ten_states)"
   ]
  },
  {
   "cell_type": "code",
   "execution_count": 96,
   "metadata": {},
   "outputs": [
    {
     "data": {
      "image/png": "[encoded data removed]",
      "text/plain": [
       "<Figure size 432x288 with 1 Axes>"
      ]
     },
     "metadata": {},
     "output_type": "display_data"
    }
   ],
   "source": [
    "plt.barh(leastComp.top_ten_states.index.values,top_ten_states[\"Average\"],color = '#157EA5', edgecolor='black')\n",
    "plt.xlabel(\"Total percentage of Computer facility in School\", fontsize = 15)\n",
    "plt.ylabel(\"Top 5 States with Poor computer facility\", fontsize = 15)\n",
    "\n",
    "for i, v in enumerate(vals4):\n",
    "    plt.text(v + 20, i - .02, str(v), fontsize = 9, fontweight='bold')"
   ]
  },
  {
   "cell_type": "code",
   "execution_count": null,
   "metadata": {},
   "outputs": [],
   "source": []
  },
  {
   "cell_type": "markdown",
   "metadata": {},
   "source": [
    "States with Least percentage Electricity availability in Schools:"
   ]
  },
  {
   "cell_type": "code",
   "execution_count": 49,
   "metadata": {},
   "outputs": [],
   "source": [
    "df_elec= df_elec[df_elec.year == '2014-15']"
   ]
  },
  {
   "cell_type": "code",
   "execution_count": 50,
   "metadata": {},
   "outputs": [],
   "source": [
    "df_elec = df_elec [['State_UT','Primary_Only','Primary_with_U_Primary','U_Primary_With_Sec','Sec_with_HrSec.']]"
   ]
  },
  {
   "cell_type": "code",
   "execution_count": 51,
   "metadata": {},
   "outputs": [],
   "source": [
    "df_elec.columns=['State','EL_Primary','EL_Upper_Primary','EL_Secondary','EL_High_Sec']"
   ]
  },
  {
   "cell_type": "code",
   "execution_count": 52,
   "metadata": {},
   "outputs": [
    {
     "data": {
      "text/html": [
       "<div>\n",
       "<style scoped>\n",
       "    .dataframe tbody tr th:only-of-type {\n",
       "        vertical-align: middle;\n",
       "    }\n",
       "\n",
       "    .dataframe tbody tr th {\n",
       "        vertical-align: top;\n",
       "    }\n",
       "\n",
       "    .dataframe thead th {\n",
       "        text-align: right;\n",
       "    }\n",
       "</style>\n",
       "<table border=\"1\" class=\"dataframe\">\n",
       "  <thead>\n",
       "    <tr style=\"text-align: right;\">\n",
       "      <th></th>\n",
       "      <th>State</th>\n",
       "      <th>EL_Primary</th>\n",
       "      <th>EL_Upper_Primary</th>\n",
       "      <th>EL_Secondary</th>\n",
       "      <th>EL_High_Sec</th>\n",
       "    </tr>\n",
       "  </thead>\n",
       "  <tbody>\n",
       "    <tr>\n",
       "      <td>1</td>\n",
       "      <td>Andaman &amp; Nicobar Islands</td>\n",
       "      <td>80.72</td>\n",
       "      <td>96.30</td>\n",
       "      <td>0.00</td>\n",
       "      <td>100.00</td>\n",
       "    </tr>\n",
       "    <tr>\n",
       "      <td>4</td>\n",
       "      <td>Andhra Pradesh</td>\n",
       "      <td>91.08</td>\n",
       "      <td>94.70</td>\n",
       "      <td>97.11</td>\n",
       "      <td>83.33</td>\n",
       "    </tr>\n",
       "    <tr>\n",
       "      <td>7</td>\n",
       "      <td>Arunachal Pradesh</td>\n",
       "      <td>21.53</td>\n",
       "      <td>54.96</td>\n",
       "      <td>92.11</td>\n",
       "      <td>100.00</td>\n",
       "    </tr>\n",
       "    <tr>\n",
       "      <td>10</td>\n",
       "      <td>Assam</td>\n",
       "      <td>11.50</td>\n",
       "      <td>56.42</td>\n",
       "      <td>75.75</td>\n",
       "      <td>59.51</td>\n",
       "    </tr>\n",
       "    <tr>\n",
       "      <td>13</td>\n",
       "      <td>Bihar</td>\n",
       "      <td>13.76</td>\n",
       "      <td>36.32</td>\n",
       "      <td>33.07</td>\n",
       "      <td>47.95</td>\n",
       "    </tr>\n",
       "  </tbody>\n",
       "</table>\n",
       "</div>"
      ],
      "text/plain": [
       "                        State  EL_Primary  EL_Upper_Primary  EL_Secondary  \\\n",
       "1   Andaman & Nicobar Islands       80.72             96.30          0.00   \n",
       "4              Andhra Pradesh       91.08             94.70         97.11   \n",
       "7           Arunachal Pradesh       21.53             54.96         92.11   \n",
       "10                      Assam       11.50             56.42         75.75   \n",
       "13                      Bihar       13.76             36.32         33.07   \n",
       "\n",
       "    EL_High_Sec  \n",
       "1        100.00  \n",
       "4         83.33  \n",
       "7        100.00  \n",
       "10        59.51  \n",
       "13        47.95  "
      ]
     },
     "execution_count": 52,
     "metadata": {},
     "output_type": "execute_result"
    }
   ],
   "source": [
    "df_elec.head()"
   ]
  },
  {
   "cell_type": "code",
   "execution_count": null,
   "metadata": {},
   "outputs": [],
   "source": []
  },
  {
   "cell_type": "code",
   "execution_count": 53,
   "metadata": {},
   "outputs": [],
   "source": [
    "df_elec['Average']=df_elec[['EL_Primary','EL_Upper_Primary' ,'EL_Secondary', 'EL_High_Sec']].mean(axis=1)"
   ]
  },
  {
   "cell_type": "code",
   "execution_count": 97,
   "metadata": {},
   "outputs": [],
   "source": [
    "def leastEl(df_elec):\n",
    "    '''\n",
    "    This function will give the least ten states with regards to  Electricity facility.\n",
    "    '''\n",
    "    \n",
    "    states = pd.DataFrame(df_elec.groupby(\"State\")[\"Average\"].sum())\n",
    "    Avg_state = states.sort_values(by='Average')\n",
    "    leastEl.top_ten_states = Avg_state.iloc[0:5]\n",
    "    vals4 = top_ten_states[\"Average\"].values\n",
    "    return vals4\n"
   ]
  },
  {
   "cell_type": "code",
   "execution_count": 98,
   "metadata": {},
   "outputs": [
    {
     "name": "stdout",
     "output_type": "stream",
     "text": [
      "Percentage Electricity facility in the least 5 states:            Average\n",
      "State             \n",
      "Tripura    26.7675\n",
      "Odisha     30.7125\n",
      "Bihar      32.7750\n",
      "Mizoram    35.6100\n",
      "Jharkhand  39.4225\n"
     ]
    }
   ],
   "source": [
    "leastEl(df_elec)\n",
    "print(\"Percentage Electricity facility in the least 5 states:\",leastEl.top_ten_states)"
   ]
  },
  {
   "cell_type": "code",
   "execution_count": 56,
   "metadata": {},
   "outputs": [
    {
     "data": {
      "image/png": "[encoded data removed]",
      "text/plain": [
       "<Figure size 432x288 with 1 Axes>"
      ]
     },
     "metadata": {},
     "output_type": "display_data"
    }
   ],
   "source": [
    "plt.barh(leastEl.top_ten_states.index.values,top_ten_states[\"Average\"],color = '#157EA5', edgecolor='black')\n",
    "plt.xlabel(\"Total percentage of Electicity facility\", fontsize = 15)\n",
    "plt.ylabel(\"Top 5 States with Poor Electicity facility\", fontsize = 15)\n",
    "\n",
    "for i, v in enumerate(vals4):\n",
    "    plt.text(v + 20, i - .02, str(v), fontsize = 9, fontweight='bold')"
   ]
  },
  {
   "cell_type": "code",
   "execution_count": 57,
   "metadata": {},
   "outputs": [],
   "source": [
    "df_water = pd.read_csv(\"schools_with_water_1.csv\")\n"
   ]
  },
  {
   "cell_type": "code",
   "execution_count": 58,
   "metadata": {},
   "outputs": [],
   "source": [
    "df_water= df_water[df_water.Year == '2014-15']"
   ]
  },
  {
   "cell_type": "code",
   "execution_count": 59,
   "metadata": {},
   "outputs": [],
   "source": [
    "df_water = df_water [['State/UT','Primary_Only','Primary_with_U_Primary','U_Primary_With_Sec','Sec_with_HrSec.']]"
   ]
  },
  {
   "cell_type": "code",
   "execution_count": 60,
   "metadata": {},
   "outputs": [],
   "source": [
    "df_water.columns=['State','W_Primary','W_Upper_Primary','W_Secondary','W_High_Sec']"
   ]
  },
  {
   "cell_type": "code",
   "execution_count": 61,
   "metadata": {},
   "outputs": [
    {
     "data": {
      "text/html": [
       "<div>\n",
       "<style scoped>\n",
       "    .dataframe tbody tr th:only-of-type {\n",
       "        vertical-align: middle;\n",
       "    }\n",
       "\n",
       "    .dataframe tbody tr th {\n",
       "        vertical-align: top;\n",
       "    }\n",
       "\n",
       "    .dataframe thead th {\n",
       "        text-align: right;\n",
       "    }\n",
       "</style>\n",
       "<table border=\"1\" class=\"dataframe\">\n",
       "  <thead>\n",
       "    <tr style=\"text-align: right;\">\n",
       "      <th></th>\n",
       "      <th>State</th>\n",
       "      <th>W_Primary</th>\n",
       "      <th>W_Upper_Primary</th>\n",
       "      <th>W_Secondary</th>\n",
       "      <th>W_High_Sec</th>\n",
       "    </tr>\n",
       "  </thead>\n",
       "  <tbody>\n",
       "    <tr>\n",
       "      <td>1</td>\n",
       "      <td>Andaman &amp; Nicobar Islands</td>\n",
       "      <td>99.55</td>\n",
       "      <td>98.77</td>\n",
       "      <td>0.00</td>\n",
       "      <td>100.00</td>\n",
       "    </tr>\n",
       "    <tr>\n",
       "      <td>4</td>\n",
       "      <td>Andhra Pradesh</td>\n",
       "      <td>91.85</td>\n",
       "      <td>96.07</td>\n",
       "      <td>97.48</td>\n",
       "      <td>100.00</td>\n",
       "    </tr>\n",
       "    <tr>\n",
       "      <td>7</td>\n",
       "      <td>Arunachal Pradesh</td>\n",
       "      <td>73.34</td>\n",
       "      <td>89.99</td>\n",
       "      <td>94.74</td>\n",
       "      <td>88.89</td>\n",
       "    </tr>\n",
       "    <tr>\n",
       "      <td>10</td>\n",
       "      <td>Assam</td>\n",
       "      <td>81.76</td>\n",
       "      <td>92.63</td>\n",
       "      <td>94.17</td>\n",
       "      <td>85.56</td>\n",
       "    </tr>\n",
       "    <tr>\n",
       "      <td>13</td>\n",
       "      <td>Bihar</td>\n",
       "      <td>87.54</td>\n",
       "      <td>98.34</td>\n",
       "      <td>98.01</td>\n",
       "      <td>98.27</td>\n",
       "    </tr>\n",
       "  </tbody>\n",
       "</table>\n",
       "</div>"
      ],
      "text/plain": [
       "                        State  W_Primary  W_Upper_Primary  W_Secondary  \\\n",
       "1   Andaman & Nicobar Islands      99.55            98.77         0.00   \n",
       "4              Andhra Pradesh      91.85            96.07        97.48   \n",
       "7           Arunachal Pradesh      73.34            89.99        94.74   \n",
       "10                      Assam      81.76            92.63        94.17   \n",
       "13                      Bihar      87.54            98.34        98.01   \n",
       "\n",
       "    W_High_Sec  \n",
       "1       100.00  \n",
       "4       100.00  \n",
       "7        88.89  \n",
       "10       85.56  \n",
       "13       98.27  "
      ]
     },
     "execution_count": 61,
     "metadata": {},
     "output_type": "execute_result"
    }
   ],
   "source": [
    "df_water.head()"
   ]
  },
  {
   "cell_type": "code",
   "execution_count": 62,
   "metadata": {},
   "outputs": [],
   "source": [
    "df_water['Average']=df_water[['W_Primary','W_Upper_Primary' ,'W_Secondary', 'W_High_Sec']].mean(axis=1)"
   ]
  },
  {
   "cell_type": "code",
   "execution_count": 63,
   "metadata": {},
   "outputs": [
    {
     "data": {
      "image/png": "[encoded data removed]",
      "text/plain": [
       "<Figure size 432x288 with 1 Axes>"
      ]
     },
     "metadata": {},
     "output_type": "display_data"
    }
   ],
   "source": [
    "states = pd.DataFrame(df_water.groupby(\"State\")[\"Average\"].sum())\n",
    "Avg_state = states.sort_values(by='Average')\n",
    "top_ten_states = Avg_state.iloc[0:5]\n",
    "vals4 = top_ten_states[\"Average\"].values\n",
    "\n",
    "\n",
    "\n",
    "plt.barh(top_ten_states.index.values,top_ten_states[\"Average\"],color = '#157EA5', edgecolor='black')\n",
    "plt.xlabel(\"Total percentage of Water facility in School\", fontsize = 15)\n",
    "plt.ylabel(\"Top 5 States with Poor Water facility\", fontsize = 15)\n",
    "\n",
    "for i, v in enumerate(vals4):\n",
    "    plt.text(v + 20, i - .02, str(v), fontsize = 9, fontweight='bold')"
   ]
  },
  {
   "cell_type": "code",
   "execution_count": 64,
   "metadata": {},
   "outputs": [],
   "source": [
    "df_bwash = pd.read_csv(\"schools_with_btoilet.csv\")\n",
    "df_gwash = pd.read_csv(\"schools_with_gtoilet.csv\")"
   ]
  },
  {
   "cell_type": "code",
   "execution_count": 65,
   "metadata": {},
   "outputs": [],
   "source": [
    "df_bwash= df_bwash[df_bwash.year == '2014-15']"
   ]
  },
  {
   "cell_type": "code",
   "execution_count": 66,
   "metadata": {},
   "outputs": [],
   "source": [
    "df_bwash = df_bwash [['State_UT','Primary_Only','Primary_with_U_Primary','U_Primary_With_Sec','Sec_with_HrSec.']]"
   ]
  },
  {
   "cell_type": "code",
   "execution_count": 67,
   "metadata": {},
   "outputs": [],
   "source": [
    "df_bwash.columns=['State','B_Primary','B_Upper_Primary','B_Secondary','B_High_Sec']"
   ]
  },
  {
   "cell_type": "code",
   "execution_count": 68,
   "metadata": {},
   "outputs": [],
   "source": [
    "df_bwash['Average']=df_bwash[['B_Primary','B_Upper_Primary' ,'B_Secondary', 'B_High_Sec']].mean(axis=1)"
   ]
  },
  {
   "cell_type": "code",
   "execution_count": 69,
   "metadata": {},
   "outputs": [
    {
     "data": {
      "image/png": "[encoded data removed]",
      "text/plain": [
       "<Figure size 432x288 with 1 Axes>"
      ]
     },
     "metadata": {},
     "output_type": "display_data"
    }
   ],
   "source": [
    "states = pd.DataFrame(df_bwash.groupby(\"State\")[\"Average\"].sum())\n",
    "Avg_state = states.sort_values(by='Average')\n",
    "top_ten_states = Avg_state.iloc[0:5]\n",
    "vals4 = top_ten_states[\"Average\"].values\n",
    "\n",
    "\n",
    "\n",
    "plt.barh(top_ten_states.index.values,top_ten_states[\"Average\"],color = '#157EA5', edgecolor='black')\n",
    "plt.xlabel(\"Total percentage of Washroom facility in School\", fontsize = 15)\n",
    "plt.ylabel(\"Top 5 States with poor Boys Washroom facility\", fontsize = 15)\n",
    "\n",
    "for i, v in enumerate(vals4):\n",
    "    plt.text(v + 20, i - .02, str(v), fontsize = 9, fontweight='bold')"
   ]
  },
  {
   "cell_type": "code",
   "execution_count": 70,
   "metadata": {},
   "outputs": [],
   "source": [
    "df_gwash= df_gwash[df_gwash.year == '2014-15']"
   ]
  },
  {
   "cell_type": "code",
   "execution_count": 71,
   "metadata": {},
   "outputs": [],
   "source": [
    "df_gwash = df_gwash [['State_UT','Primary_Only','Primary_with_U_Primary','U_Primary_With_Sec','Sec_with_HrSec.']]"
   ]
  },
  {
   "cell_type": "code",
   "execution_count": 72,
   "metadata": {},
   "outputs": [],
   "source": [
    "df_gwash.columns=['State','G_Primary','G_Upper_Primary','G_Secondary','G_High_Sec']"
   ]
  },
  {
   "cell_type": "code",
   "execution_count": 73,
   "metadata": {},
   "outputs": [],
   "source": [
    "df_gwash['Average']=df_gwash[['G_Primary','G_Upper_Primary' ,'G_Secondary', 'G_High_Sec']].mean(axis=1)"
   ]
  },
  {
   "cell_type": "code",
   "execution_count": 74,
   "metadata": {},
   "outputs": [
    {
     "data": {
      "image/png": "[encoded data removed]",
      "text/plain": [
       "<Figure size 432x288 with 1 Axes>"
      ]
     },
     "metadata": {},
     "output_type": "display_data"
    }
   ],
   "source": [
    "states = pd.DataFrame(df_gwash.groupby(\"State\")[\"Average\"].sum())\n",
    "Avg_state = states.sort_values(by='Average')\n",
    "top_ten_states = Avg_state.iloc[0:5]\n",
    "vals4 = top_ten_states[\"Average\"].values\n",
    "\n",
    "\n",
    "\n",
    "plt.barh(top_ten_states.index.values,top_ten_states[\"Average\"],color = '#157EA5', edgecolor='black')\n",
    "plt.xlabel(\"Total percentage of Water facility in School\", fontsize = 15)\n",
    "plt.ylabel(\"Top 5 States with Poor Girls_Washroom facility\", fontsize = 15)\n",
    "\n",
    "for i, v in enumerate(vals4):\n",
    "    plt.text(v + 20, i - .02, str(v), fontsize = 9, fontweight='bold')"
   ]
  },
  {
   "cell_type": "code",
   "execution_count": 75,
   "metadata": {},
   "outputs": [],
   "source": [
    "df1=pd.merge(df_E, df_comp, how='inner', on=['State'])"
   ]
  },
  {
   "cell_type": "code",
   "execution_count": 76,
   "metadata": {},
   "outputs": [],
   "source": [
    "df1=pd.merge(df1, df_elec, how='inner', on=['State'])"
   ]
  },
  {
   "cell_type": "code",
   "execution_count": 77,
   "metadata": {},
   "outputs": [],
   "source": [
    "df1=pd.merge(df1, df_water, how='inner', on=['State'])"
   ]
  },
  {
   "cell_type": "code",
   "execution_count": 78,
   "metadata": {},
   "outputs": [],
   "source": [
    "df1=pd.merge(df1,df_bwash,how='inner', on=['State'])"
   ]
  },
  {
   "cell_type": "code",
   "execution_count": 79,
   "metadata": {},
   "outputs": [],
   "source": [
    "df1=pd.merge(df1,df_gwash,how='inner', on=['State'])"
   ]
  },
  {
   "cell_type": "markdown",
   "metadata": {},
   "source": [
    "#Mizoram and Odisha are states that is repeatedly there in the states with poor facilities list. \n",
    "#But tend to have good enrollment ratio despite the poor facilities."
   ]
  },
  {
   "cell_type": "code",
   "execution_count": 80,
   "metadata": {},
   "outputs": [
    {
     "data": {
      "text/html": [
       "<div>\n",
       "<style scoped>\n",
       "    .dataframe tbody tr th:only-of-type {\n",
       "        vertical-align: middle;\n",
       "    }\n",
       "\n",
       "    .dataframe tbody tr th {\n",
       "        vertical-align: top;\n",
       "    }\n",
       "\n",
       "    .dataframe thead th {\n",
       "        text-align: right;\n",
       "    }\n",
       "</style>\n",
       "<table border=\"1\" class=\"dataframe\">\n",
       "  <thead>\n",
       "    <tr style=\"text-align: right;\">\n",
       "      <th></th>\n",
       "      <th>State</th>\n",
       "      <th>E_Primary</th>\n",
       "      <th>E_Upper_Primary</th>\n",
       "      <th>E_Secondary</th>\n",
       "      <th>E_High_Sec</th>\n",
       "      <th>C_Primary</th>\n",
       "      <th>C_Upper_Primary</th>\n",
       "      <th>C_Secondary</th>\n",
       "      <th>C_High_Sec</th>\n",
       "      <th>Average_x</th>\n",
       "      <th>...</th>\n",
       "      <th>B_Primary</th>\n",
       "      <th>B_Upper_Primary</th>\n",
       "      <th>B_Secondary</th>\n",
       "      <th>B_High_Sec</th>\n",
       "      <th>Average_y</th>\n",
       "      <th>G_Primary</th>\n",
       "      <th>G_Upper_Primary</th>\n",
       "      <th>G_Secondary</th>\n",
       "      <th>G_High_Sec</th>\n",
       "      <th>Average</th>\n",
       "    </tr>\n",
       "  </thead>\n",
       "  <tbody>\n",
       "    <tr>\n",
       "      <td>23</td>\n",
       "      <td>Mizoram</td>\n",
       "      <td>122.66</td>\n",
       "      <td>126.83</td>\n",
       "      <td>108.15</td>\n",
       "      <td>62.11</td>\n",
       "      <td>8.31</td>\n",
       "      <td>49.87</td>\n",
       "      <td>0.0</td>\n",
       "      <td>0.0</td>\n",
       "      <td>14.545</td>\n",
       "      <td>...</td>\n",
       "      <td>97.29</td>\n",
       "      <td>88.3</td>\n",
       "      <td>0.0</td>\n",
       "      <td>0.0</td>\n",
       "      <td>46.3975</td>\n",
       "      <td>99.94</td>\n",
       "      <td>99.24</td>\n",
       "      <td>0.0</td>\n",
       "      <td>0.0</td>\n",
       "      <td>49.795</td>\n",
       "    </tr>\n",
       "  </tbody>\n",
       "</table>\n",
       "<p>1 rows × 30 columns</p>\n",
       "</div>"
      ],
      "text/plain": [
       "      State  E_Primary  E_Upper_Primary  E_Secondary E_High_Sec  C_Primary  \\\n",
       "23  Mizoram     122.66           126.83       108.15      62.11       8.31   \n",
       "\n",
       "    C_Upper_Primary  C_Secondary  C_High_Sec  Average_x  ...  B_Primary  \\\n",
       "23            49.87          0.0         0.0     14.545  ...      97.29   \n",
       "\n",
       "    B_Upper_Primary  B_Secondary  B_High_Sec  Average_y  G_Primary  \\\n",
       "23             88.3          0.0         0.0    46.3975      99.94   \n",
       "\n",
       "    G_Upper_Primary  G_Secondary  G_High_Sec  Average  \n",
       "23            99.24          0.0         0.0   49.795  \n",
       "\n",
       "[1 rows x 30 columns]"
      ]
     },
     "execution_count": 80,
     "metadata": {},
     "output_type": "execute_result"
    }
   ],
   "source": [
    "df1[df1['State']=='Mizoram']"
   ]
  },
  {
   "cell_type": "code",
   "execution_count": 81,
   "metadata": {},
   "outputs": [
    {
     "data": {
      "text/html": [
       "<div>\n",
       "<style scoped>\n",
       "    .dataframe tbody tr th:only-of-type {\n",
       "        vertical-align: middle;\n",
       "    }\n",
       "\n",
       "    .dataframe tbody tr th {\n",
       "        vertical-align: top;\n",
       "    }\n",
       "\n",
       "    .dataframe thead th {\n",
       "        text-align: right;\n",
       "    }\n",
       "</style>\n",
       "<table border=\"1\" class=\"dataframe\">\n",
       "  <thead>\n",
       "    <tr style=\"text-align: right;\">\n",
       "      <th></th>\n",
       "      <th>State</th>\n",
       "      <th>E_Primary</th>\n",
       "      <th>E_Upper_Primary</th>\n",
       "      <th>E_Secondary</th>\n",
       "      <th>E_High_Sec</th>\n",
       "      <th>C_Primary</th>\n",
       "      <th>C_Upper_Primary</th>\n",
       "      <th>C_Secondary</th>\n",
       "      <th>C_High_Sec</th>\n",
       "      <th>Average_x</th>\n",
       "      <th>...</th>\n",
       "      <th>B_Primary</th>\n",
       "      <th>B_Upper_Primary</th>\n",
       "      <th>B_Secondary</th>\n",
       "      <th>B_High_Sec</th>\n",
       "      <th>Average_y</th>\n",
       "      <th>G_Primary</th>\n",
       "      <th>G_Upper_Primary</th>\n",
       "      <th>G_Secondary</th>\n",
       "      <th>G_High_Sec</th>\n",
       "      <th>Average</th>\n",
       "    </tr>\n",
       "  </thead>\n",
       "  <tbody>\n",
       "    <tr>\n",
       "      <td>25</td>\n",
       "      <td>Odisha</td>\n",
       "      <td>105.53</td>\n",
       "      <td>90.13</td>\n",
       "      <td>77.06</td>\n",
       "      <td>@</td>\n",
       "      <td>3.58</td>\n",
       "      <td>18.47</td>\n",
       "      <td>44.54</td>\n",
       "      <td>0.0</td>\n",
       "      <td>16.6475</td>\n",
       "      <td>...</td>\n",
       "      <td>81.58</td>\n",
       "      <td>84.97</td>\n",
       "      <td>80.33</td>\n",
       "      <td>0.0</td>\n",
       "      <td>61.72</td>\n",
       "      <td>86.46</td>\n",
       "      <td>92.04</td>\n",
       "      <td>88.96</td>\n",
       "      <td>0.0</td>\n",
       "      <td>66.865</td>\n",
       "    </tr>\n",
       "  </tbody>\n",
       "</table>\n",
       "<p>1 rows × 30 columns</p>\n",
       "</div>"
      ],
      "text/plain": [
       "     State  E_Primary  E_Upper_Primary  E_Secondary E_High_Sec  C_Primary  \\\n",
       "25  Odisha     105.53            90.13        77.06          @       3.58   \n",
       "\n",
       "    C_Upper_Primary  C_Secondary  C_High_Sec  Average_x  ...  B_Primary  \\\n",
       "25            18.47        44.54         0.0    16.6475  ...      81.58   \n",
       "\n",
       "    B_Upper_Primary  B_Secondary  B_High_Sec  Average_y  G_Primary  \\\n",
       "25            84.97        80.33         0.0      61.72      86.46   \n",
       "\n",
       "    G_Upper_Primary  G_Secondary  G_High_Sec  Average  \n",
       "25            92.04        88.96         0.0   66.865  \n",
       "\n",
       "[1 rows x 30 columns]"
      ]
     },
     "execution_count": 81,
     "metadata": {},
     "output_type": "execute_result"
    }
   ],
   "source": [
    "df1[df1['State']=='Odisha']"
   ]
  },
  {
   "cell_type": "code",
   "execution_count": 83,
   "metadata": {},
   "outputs": [],
   "source": [
    "#df=df1.groupby(['E_Primary','E_Upper_Primary','E_Secondary,....'])['State'].sum().reset_index(name='State')"
   ]
  },
  {
   "cell_type": "code",
   "execution_count": null,
   "metadata": {},
   "outputs": [],
   "source": [
    "#Not going with the single group by clause becasue I am not able to get the desired output when my dropdown list is changed\n",
    "#and the respective values are assigned to the selected \"State\""
   ]
  },
  {
   "cell_type": "code",
   "execution_count": 86,
   "metadata": {},
   "outputs": [],
   "source": [
    "choose_state = pw.Dropdown(description = \"Choose State\",\n",
    "                            options = ['Andaman Nicobar Islands', 'Andhra Pradesh', 'Assam', 'Bihar', 'Chandigarh',\n",
    "                                       'Dadra Nagar Haveli','Daman Diu', 'Delhi', 'Goa', 'Gujarat', \n",
    "                                       'Haryana','Himachal Pradesh', 'Jammu and Kashmir', 'Jharkhand',\n",
    "                                       'Karnataka', 'Kerala', 'Lakshadweep','Madhya Pradesh', 'Maharashtra', \n",
    "                                       'Manipur', 'Meghalaya', 'Mizoram', 'Nagaland','Odisha', 'Puducherry', \n",
    "                                       'Punjab', 'Rajasthan', 'Sikkim','Tamil Nadu', 'Telangana','Tripura','Uttar Pradesh',\n",
    "                                       'Uttarakhand','West Bengal'],\n",
    "                            value = \"Tamil Nadu\")\n",
    "                         \n",
    "\n",
    "Primary = df1.groupby(\"State\")[\"E_Primary\"].sum()\n",
    "Upper_Primary = df1.groupby(\"State\")[\"E_Upper_Primary\"].sum()\n",
    "Secondary = df1.groupby(\"State\")[\"E_Secondary\"].sum()\n",
    "Higher_Secondary = df1.groupby(\"State\")[\"E_High_Sec\"].sum()\n",
    "E_Primary = df1.groupby(\"State\")[\"EL_Primary\"].sum()\n",
    "E_Upper_Primary = df1.groupby(\"State\")[\"EL_Upper_Primary\"].sum()\n",
    "E_Secondary = df1.groupby(\"State\")[\"EL_Secondary\"].sum()\n",
    "E_Higher_Secondary = df1.groupby(\"State\")[\"EL_High_Sec\"].sum()\n",
    "C_Primary = df1.groupby(\"State\")[\"C_Primary\"].sum()\n",
    "C_Upper_Primary = df1.groupby(\"State\")[\"C_Upper_Primary\"].sum()\n",
    "C_Secondary = df1.groupby(\"State\")[\"C_Secondary\"].sum()\n",
    "C_Higher_Secondary = df1.groupby(\"State\")[\"C_High_Sec\"].sum()\n",
    "W_Primary = df1.groupby(\"State\")[\"W_Primary\"].sum()\n",
    "W_Upper_Primary = df1.groupby(\"State\")[\"W_Upper_Primary\"].sum()\n",
    "W_Secondary = df1.groupby(\"State\")[\"W_Secondary\"].sum()\n",
    "W_Higher_Secondary = df1.groupby(\"State\")[\"W_High_Sec\"].sum()\n",
    "B_Primary = df1.groupby(\"State\")[\"B_Primary\"].sum()\n",
    "B_Upper_Primary = df1.groupby(\"State\")[\"B_Upper_Primary\"].sum()\n",
    "B_Secondary = df1.groupby(\"State\")[\"B_Secondary\"].sum()\n",
    "B_Higher_Secondary = df1.groupby(\"State\")[\"B_High_Sec\"].sum()\n",
    "G_Primary = df1.groupby(\"State\")[\"G_Primary\"].sum()\n",
    "G_Upper_Primary = df1.groupby(\"State\")[\"G_Upper_Primary\"].sum()\n",
    "G_Secondary = df1.groupby(\"State\")[\"G_Secondary\"].sum()\n",
    "G_Higher_Secondary = df1.groupby(\"State\")[\"G_High_Sec\"].sum()\n",
    "\n",
    "\n",
    "\n",
    "def change_state(change):\n",
    "    a = Primary[choose_state.value]\n",
    "    b = Upper_Primary[choose_state.value]\n",
    "    c = Secondary[choose_state.value]\n",
    "    d = Higher_Secondary[choose_state.value]\n",
    "    e= E_Primary[choose_state.value]\n",
    "    f= E_Upper_Primary[choose_state.value]\n",
    "    g= E_Secondary[choose_state.value]\n",
    "    h= E_Higher_Secondary[choose_state.value]\n",
    "    i= C_Primary[choose_state.value]\n",
    "    j= C_Upper_Primary[choose_state.value]\n",
    "    k= C_Secondary[choose_state.value]\n",
    "    l= C_Higher_Secondary[choose_state.value]\n",
    "    m= W_Primary[choose_state.value]\n",
    "    n= W_Upper_Primary[choose_state.value]\n",
    "    o= W_Secondary[choose_state.value]\n",
    "    p= W_Higher_Secondary[choose_state.value]\n",
    "    q= B_Primary[choose_state.value]\n",
    "    r= B_Upper_Primary[choose_state.value]\n",
    "    s= B_Secondary[choose_state.value]\n",
    "    t= B_Higher_Secondary[choose_state.value]\n",
    "    u= G_Primary[choose_state.value]\n",
    "    v= G_Upper_Primary[choose_state.value]\n",
    "    w= G_Secondary[choose_state.value]\n",
    "    x= G_Higher_Secondary[choose_state.value]\n",
    "     \n",
    "       \n",
    "    marks = (a,e,i,m,q,u,b,f,j,n,r,v,c,g,k,o,s,w,d,h,l,p,t,x)\n",
    "    scatters.x = labels\n",
    "    scatters.y = marks\n",
    "\n",
    "labels = (\"Primary\",\"E\",\"C\",\"W\",\"BW\",\"GW\",\"UpperPri\",\"uE\",\"uC\",\"uW\",\"uBW\",\"uGW\",\"Sec\",\"sE\",\"sC\",\"sW\",\"sBW\",\"sGW\",\"HSec\",\"hE\",\"hC\",\"hW\",\"hBW\",\"hGW\")\n",
    "a= Primary[\"Tamil Nadu\"]\n",
    "b = Upper_Primary[\"Tamil Nadu\"]\n",
    "c = Secondary[\"Tamil Nadu\"]\n",
    "d = Higher_Secondary[\"Tamil Nadu\"]\n",
    "e= E_Primary[\"Tamil Nadu\"]\n",
    "f= E_Upper_Primary[\"Tamil Nadu\"]\n",
    "g= E_Secondary[\"Tamil Nadu\"]\n",
    "h= E_Higher_Secondary[\"Tamil Nadu\"]\n",
    "i= C_Primary[\"Tamil Nadu\"]\n",
    "j= C_Upper_Primary[\"Tamil Nadu\"]\n",
    "k= C_Secondary[\"Tamil Nadu\"]\n",
    "l= C_Higher_Secondary[\"Tamil Nadu\"]\n",
    "m= W_Primary[\"Tamil Nadu\"]\n",
    "n= W_Upper_Primary[\"Tamil Nadu\"]\n",
    "o= W_Secondary[\"Tamil Nadu\"]\n",
    "p= W_Higher_Secondary[\"Tamil Nadu\"]\n",
    "q= B_Primary[\"Tamil Nadu\"]\n",
    "r= B_Upper_Primary[\"Tamil Nadu\"]\n",
    "s= B_Secondary[\"Tamil Nadu\"]\n",
    "t= B_Higher_Secondary[\"Tamil Nadu\"]\n",
    "u= G_Primary[\"Tamil Nadu\"]\n",
    "v= G_Upper_Primary[\"Tamil Nadu\"]\n",
    "w= G_Secondary[\"Tamil Nadu\"]\n",
    "x= G_Higher_Secondary[\"Tamil Nadu\"]\n",
    "\n",
    "\n",
    "\n",
    "marks = [a,e,i,m,q,u,b,f,j,n,r,v,c,g,k,o,s,w,d,h,l,p,t,x]\n",
    "\n",
    "choose_state.observe(change_state)\n",
    "\n",
    "x_sc = bqplot.OrdinalScale()\n",
    "y_sc = bqplot.LinearScale()\n",
    "\n",
    "x_ax = bqplot.Axis(scale = x_sc, label = \"Facilities in Different Levels\")\n",
    "y_ax = bqplot.Axis(scale = y_sc , label = \"Percentage\", orientation = 'vertical')\n",
    "\n",
    "tooltip = bqplot.Tooltip(fields = [\"x\",\"y\"])\n",
    "scatters = bqplot.Scatter(x = labels,\n",
    "                         y = marks,\n",
    "                         scales = {'x': x_sc, 'y': y_sc},\n",
    "                         tooltip = tooltip,\n",
    "                         colors=['#3182BD'], stroke='black')\n",
    "fig = bqplot.Figure(marks = [scatters],axes =[x_ax, y_ax])"
   ]
  },
  {
   "cell_type": "code",
   "execution_count": 87,
   "metadata": {},
   "outputs": [
    {
     "data": {
      "application/vnd.jupyter.widget-view+json": {
       "model_id": "59a48da87f354d52a5323280bf5af10e",
       "version_major": 2,
       "version_minor": 0
      },
      "text/plain": [
       "Dropdown(description='Choose State', index=28, options=('Andaman Nicobar Islands', 'Andhra Pradesh', 'Assam', …"
      ]
     },
     "metadata": {},
     "output_type": "display_data"
    },
    {
     "data": {
      "application/vnd.jupyter.widget-view+json": {
       "model_id": "aaba000cb0fa4844945b952d5b555541",
       "version_major": 2,
       "version_minor": 0
      },
      "text/plain": [
       "Figure(axes=[Axis(label='Facilities in Different Levels', scale=OrdinalScale()), Axis(label='Percentage', orie…"
      ]
     },
     "metadata": {},
     "output_type": "display_data"
    }
   ],
   "source": [
    "display(choose_state)\n",
    "display(fig)"
   ]
  },
  {
   "cell_type": "markdown",
   "metadata": {},
   "source": [
    "Conclusion:\n",
    "\n",
    "\n",
    "After analysing the data through graphs, I came to a conclusion that there is no particular relationship between enrollment ratio and the school facilities."
   ]
  }
 ],
 "metadata": {
  "kernelspec": {
   "display_name": "Python 3",
   "language": "python",
   "name": "python3"
  },
  "language_info": {
   "codemirror_mode": {
    "name": "ipython",
    "version": 3
   },
   "file_extension": ".py",
   "mimetype": "text/x-python",
   "name": "python",
   "nbconvert_exporter": "python",
   "pygments_lexer": "ipython3",
   "version": "3.6.5"
  }
 },
 "nbformat": 4,
 "nbformat_minor": 2
}
