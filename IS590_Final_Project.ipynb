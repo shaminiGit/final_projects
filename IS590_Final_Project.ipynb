{
 "cells": [
  {
   "cell_type": "markdown",
   "metadata": {},
   "source": [
    "# IS 590 Final Project: Relationship between School Facilities in different levels VS Enrollment Ratio in Schools in India"
   ]
  },
  {
   "cell_type": "markdown",
   "metadata": {},
   "source": [
    "Hypothesis: There could be a direct or indirect realtionship between the water,electricity,computer, washroom facilities and Enrollment ratio in schools in each state in India."
   ]
  },
  {
   "cell_type": "raw",
   "metadata": {},
   "source": [
    "Datasets Name   : 1) Gross Enrolment Ratio from 2013-14 to 2015-16\n",
    "                  2) Percentage of Schools with Computers from 2013-14 to 2015-16\n",
    "                  3) Percentage of Schools with Drinking Water Facility from 2013-14 to 2015-16\n",
    "                  4) Percentage of Schools with Electricity from 2013-14 to 2015-16\n",
    "                  5) Schools with Boys Toilet from 2013-14 to 2015-16\n",
    "                  6) Schools with Girls Toilet from 2013-14 to 2015-16\n",
    "Dataset Format : CSV\n",
    "Dataset Source : https://data.gov.in/\n",
    "Dataset URL    : https://data.gov.in/catalog/school-education-statistics?filters%5Bfield_catalog_reference%5D=4241621&format=json&offset=0&limit=6&sort%5Bcreated%5D=desc\n"
   ]
  },
  {
   "cell_type": "code",
   "execution_count": null,
   "metadata": {},
   "outputs": [],
   "source": [
    "import pandas as pd\n",
    "import matplotlib.pyplot as plt\n",
    "import numpy as np\n",
    "import seaborn as sns\n",
    "import bqplot\n",
    "sns.set(style = \"darkgrid\", color_codes=True)\n",
    "import ipywidgets as pw\n",
    "import traitlets"
   ]
  },
  {
   "cell_type": "markdown",
   "metadata": {},
   "source": []
  },
  {
   "cell_type": "code",
   "execution_count": 2,
   "metadata": {},
   "outputs": [],
   "source": [
    "df_enrol = pd.read_csv(\"GER_1.csv\")\n"
   ]
  },
  {
   "cell_type": "markdown",
   "metadata": {},
   "source": [
    "Choosing only year \"2014 to 2015\" - Common year among all the data sets:"
   ]
  },
  {
   "cell_type": "code",
   "execution_count": 84,
   "metadata": {},
   "outputs": [],
   "source": [
    "df_enrolNew = df_enrol[df_enrol.Year == '2014-15']"
   ]
  },
  {
   "cell_type": "markdown",
   "metadata": {},
   "source": [
    "In the year 2014-2015, India had total of 28 States and 8 Union territories:\n",
    "(Dataset has one additional column as \"All India\" making it 37)\n",
    "Curently total Union Territiories = 9"
   ]
  },
  {
   "cell_type": "code",
   "execution_count": 88,
   "metadata": {},
   "outputs": [
    {
     "data": {
      "text/plain": [
       "37"
      ]
     },
     "execution_count": 88,
     "metadata": {},
     "output_type": "execute_result"
    }
   ],
   "source": [
    "df_enrolNew['State_UT'].nunique()"
   ]
  },
  {
   "cell_type": "code",
   "execution_count": 87,
   "metadata": {},
   "outputs": [
    {
     "data": {
      "text/plain": [
       "array(['Andaman & Nicobar Islands', 'Andhra Pradesh', 'Arunachal Pradesh',\n",
       "       'Assam', 'Bihar', 'Chandigarh', 'Chhattisgarh',\n",
       "       'Dadra & Nagar Haveli', 'Daman & Diu', 'Delhi', 'Goa', 'Gujarat',\n",
       "       'Haryana', 'Himachal Pradesh', 'Jammu And Kashmir', 'Jharkhand',\n",
       "       'Karnataka', 'Kerala', 'Lakshadweep', 'Madhya Pradesh',\n",
       "       'Maharashtra', 'Manipur', 'Meghalaya', 'Mizoram', 'Nagaland',\n",
       "       'Odisha', 'Pondicherry', 'Punjab', 'Rajasthan', 'Sikkim',\n",
       "       'Tamil Nadu', 'Telangana', 'Tripura', 'Uttar Pradesh',\n",
       "       'Uttaranchal', 'West Bengal', 'All India'], dtype=object)"
      ]
     },
     "execution_count": 87,
     "metadata": {},
     "output_type": "execute_result"
    }
   ],
   "source": [
    "df_enrolNew['State_UT'].values"
   ]
  },
  {
   "cell_type": "code",
   "execution_count": null,
   "metadata": {},
   "outputs": [],
   "source": []
  },
  {
   "cell_type": "code",
   "execution_count": null,
   "metadata": {},
   "outputs": [],
   "source": []
  },
  {
   "cell_type": "markdown",
   "metadata": {},
   "source": [
    "Different Levels in Indian Education:\n",
    "\n",
    "1) Primary-->  age-- 6 to 10 years\n",
    "2) Upper Primary--> age-- 11 to 12 years\n",
    "3) Secondary--> age -- 13 to 15 years\n",
    "4) Higher Sec--> age-- 16 to 17 years\n",
    "\n",
    "\n"
   ]
  },
  {
   "cell_type": "code",
   "execution_count": 66,
   "metadata": {},
   "outputs": [
    {
     "name": "stderr",
     "output_type": "stream",
     "text": [
      "C:\\Users\\shami\\Anaconda3\\lib\\site-packages\\ipykernel_launcher.py:1: SettingWithCopyWarning: \n",
      "A value is trying to be set on a copy of a slice from a DataFrame.\n",
      "Try using .loc[row_indexer,col_indexer] = value instead\n",
      "\n",
      "See the caveats in the documentation: http://pandas.pydata.org/pandas-docs/stable/user_guide/indexing.html#returning-a-view-versus-a-copy\n",
      "  \"\"\"Entry point for launching an IPython kernel.\n"
     ]
    }
   ],
   "source": [
    "df_enrolNew['Average']=df_enrolNew[['Primary_Total','Upper_Primary_Total' ,'Secondary_Total', 'Higher_Secondary_Total']].mean(axis=1)"
   ]
  },
  {
   "cell_type": "code",
   "execution_count": null,
   "metadata": {},
   "outputs": [],
   "source": []
  },
  {
   "cell_type": "markdown",
   "metadata": {},
   "source": [
    "Top 5 States with High Enrollment Ratio:"
   ]
  },
  {
   "cell_type": "code",
   "execution_count": 67,
   "metadata": {},
   "outputs": [
    {
     "data": {
      "image/png": "[encoded data removed]",
      "text/plain": [
       "<Figure size 432x288 with 1 Axes>"
      ]
     },
     "metadata": {},
     "output_type": "display_data"
    }
   ],
   "source": [
    "states = pd.DataFrame(df_enrolNew.groupby(\"State_UT\")[\"Average\"].sum())\n",
    "Avg_state = states.sort_values(by='Average',ascending=False)\n",
    "top_ten_states = Avg_state.iloc[0:5]\n",
    "vals4 = top_ten_states[\"Average\"].values\n",
    "\n",
    "plt.barh(top_ten_states.index.values,top_ten_states[\"Average\"],color = '#157EA5', edgecolor='black')\n",
    "plt.xlabel(\"Total Enrollment Ratio\", fontsize = 15)\n",
    "plt.ylabel(\"Top 5 States\", fontsize = 15)\n",
    "\n",
    "for i, v in enumerate(vals4):\n",
    "    plt.text(v + 20, i - .02, str(v), fontsize = 9, fontweight='bold')"
   ]
  },
  {
   "cell_type": "markdown",
   "metadata": {},
   "source": [
    "5 States with Least Enrollment Ratio: "
   ]
  },
  {
   "cell_type": "code",
   "execution_count": 68,
   "metadata": {},
   "outputs": [
    {
     "data": {
      "image/png": "[encoded data removed]",
      "text/plain": [
       "<Figure size 432x288 with 1 Axes>"
      ]
     },
     "metadata": {},
     "output_type": "display_data"
    }
   ],
   "source": [
    "states = pd.DataFrame(df_enrolNew.groupby(\"State_UT\")[\"Average\"].sum())\n",
    "Avg_state = states.sort_values(by='Average')\n",
    "top_ten_states = Avg_state.iloc[0:5]\n",
    "vals4 = top_ten_states[\"Average\"].values\n",
    "\n",
    "plt.barh(top_ten_states.index.values,top_ten_states[\"Average\"],color = '#157EA5', edgecolor='black')\n",
    "plt.xlabel(\"Total Enrollment Ratio\", fontsize = 15)\n",
    "plt.ylabel(\"Least 5 States\", fontsize = 15)\n",
    "\n",
    "for i, v in enumerate(vals4):\n",
    "    plt.text(v + 20, i - .02, str(v), fontsize = 9, fontweight='bold')"
   ]
  },
  {
   "cell_type": "code",
   "execution_count": null,
   "metadata": {},
   "outputs": [],
   "source": []
  },
  {
   "cell_type": "code",
   "execution_count": null,
   "metadata": {},
   "outputs": [],
   "source": []
  },
  {
   "cell_type": "markdown",
   "metadata": {},
   "source": [
    "Data Pre-Processing:\n",
    "Forming a new dataframe combining the columns \"Primary\" \"Upper_Primary\" \"Secondary\" \"Higher_Secondary\" from all six datasets. "
   ]
  },
  {
   "cell_type": "code",
   "execution_count": null,
   "metadata": {},
   "outputs": [],
   "source": []
  },
  {
   "cell_type": "code",
   "execution_count": 4,
   "metadata": {},
   "outputs": [],
   "source": [
    "df_E = df_enrol[df_enrol.Year == '2014-15']"
   ]
  },
  {
   "cell_type": "code",
   "execution_count": 5,
   "metadata": {},
   "outputs": [],
   "source": [
    "df_E = df_E [['State_UT','Primary_Total','Upper_Primary_Total','Secondary_Total','Higher_Secondary_Total']]"
   ]
  },
  {
   "cell_type": "code",
   "execution_count": 6,
   "metadata": {
    "scrolled": true
   },
   "outputs": [],
   "source": [
    "df_E.columns=['State','E_Primary','E_Upper_Primary','E_Secondary','E_High_Sec']"
   ]
  },
  {
   "cell_type": "code",
   "execution_count": 7,
   "metadata": {},
   "outputs": [
    {
     "data": {
      "text/html": [
       "<div>\n",
       "<style scoped>\n",
       "    .dataframe tbody tr th:only-of-type {\n",
       "        vertical-align: middle;\n",
       "    }\n",
       "\n",
       "    .dataframe tbody tr th {\n",
       "        vertical-align: top;\n",
       "    }\n",
       "\n",
       "    .dataframe thead th {\n",
       "        text-align: right;\n",
       "    }\n",
       "</style>\n",
       "<table border=\"1\" class=\"dataframe\">\n",
       "  <thead>\n",
       "    <tr style=\"text-align: right;\">\n",
       "      <th></th>\n",
       "      <th>State</th>\n",
       "      <th>E_Primary</th>\n",
       "      <th>E_Upper_Primary</th>\n",
       "      <th>E_Secondary</th>\n",
       "      <th>E_High_Sec</th>\n",
       "    </tr>\n",
       "  </thead>\n",
       "  <tbody>\n",
       "    <tr>\n",
       "      <td>73</td>\n",
       "      <td>Andaman &amp; Nicobar Islands</td>\n",
       "      <td>90.92</td>\n",
       "      <td>87.62</td>\n",
       "      <td>92.88</td>\n",
       "      <td>95.65</td>\n",
       "    </tr>\n",
       "    <tr>\n",
       "      <td>74</td>\n",
       "      <td>Andhra Pradesh</td>\n",
       "      <td>88.21</td>\n",
       "      <td>79.47</td>\n",
       "      <td>72.40</td>\n",
       "      <td>51.63</td>\n",
       "    </tr>\n",
       "    <tr>\n",
       "      <td>75</td>\n",
       "      <td>Arunachal Pradesh</td>\n",
       "      <td>128.13</td>\n",
       "      <td>122.53</td>\n",
       "      <td>91.62</td>\n",
       "      <td>68.71</td>\n",
       "    </tr>\n",
       "    <tr>\n",
       "      <td>76</td>\n",
       "      <td>Assam</td>\n",
       "      <td>114.96</td>\n",
       "      <td>95.86</td>\n",
       "      <td>74.78</td>\n",
       "      <td>33.97</td>\n",
       "    </tr>\n",
       "    <tr>\n",
       "      <td>77</td>\n",
       "      <td>Bihar</td>\n",
       "      <td>101.09</td>\n",
       "      <td>98.07</td>\n",
       "      <td>69.09</td>\n",
       "      <td>31.79</td>\n",
       "    </tr>\n",
       "  </tbody>\n",
       "</table>\n",
       "</div>"
      ],
      "text/plain": [
       "                        State  E_Primary  E_Upper_Primary  E_Secondary  \\\n",
       "73  Andaman & Nicobar Islands      90.92            87.62        92.88   \n",
       "74             Andhra Pradesh      88.21            79.47        72.40   \n",
       "75          Arunachal Pradesh     128.13           122.53        91.62   \n",
       "76                      Assam     114.96            95.86        74.78   \n",
       "77                      Bihar     101.09            98.07        69.09   \n",
       "\n",
       "   E_High_Sec  \n",
       "73      95.65  \n",
       "74      51.63  \n",
       "75      68.71  \n",
       "76      33.97  \n",
       "77      31.79  "
      ]
     },
     "execution_count": 7,
     "metadata": {},
     "output_type": "execute_result"
    }
   ],
   "source": [
    "df_E .head()"
   ]
  },
  {
   "cell_type": "code",
   "execution_count": 12,
   "metadata": {},
   "outputs": [
    {
     "data": {
      "text/plain": [
       "Index(['State_UT', 'Year', 'Primary_Boys', 'Primary_Girls', 'Primary_Total',\n",
       "       'Upper_Primary_Boys', 'Upper_Primary_Girls', 'Upper_Primary_Total',\n",
       "       'Secondary_Boys', 'Secondary_Girls', 'Secondary_Total',\n",
       "       'Higher_Secondary_Boys', 'Higher_Secondary_Girls',\n",
       "       'Higher_Secondary_Total'],\n",
       "      dtype='object')"
      ]
     },
     "execution_count": 12,
     "metadata": {},
     "output_type": "execute_result"
    }
   ],
   "source": [
    "df_enrol.columns"
   ]
  },
  {
   "cell_type": "code",
   "execution_count": 15,
   "metadata": {},
   "outputs": [],
   "source": [
    "df_comp = pd.read_csv(\"schools_with_computer.csv\")\n",
    "df_elec =  pd.read_csv(\"schools_with_electricity.csv\")"
   ]
  },
  {
   "cell_type": "code",
   "execution_count": 16,
   "metadata": {},
   "outputs": [
    {
     "data": {
      "text/plain": [
       "Index(['State_UT', 'year', 'Primary_Only', 'Primary_with_U_Primary',\n",
       "       'Primary_with_U_Primary_Sec_HrSec', 'U_Primary_Only',\n",
       "       'U_Primary_With_Sec_HrSec', 'Primary_with_U_Primary_Sec',\n",
       "       'U_Primary_With_Sec', 'Sec_Only', 'Sec_with_HrSec.', 'HrSec_Only',\n",
       "       'All Schools'],\n",
       "      dtype='object')"
      ]
     },
     "execution_count": 16,
     "metadata": {},
     "output_type": "execute_result"
    }
   ],
   "source": [
    "df_comp.columns"
   ]
  },
  {
   "cell_type": "code",
   "execution_count": 17,
   "metadata": {},
   "outputs": [],
   "source": [
    "df_comp= df_comp[df_comp.year == '2014-15']"
   ]
  },
  {
   "cell_type": "code",
   "execution_count": 18,
   "metadata": {},
   "outputs": [],
   "source": [
    "df_comp = df_comp [['State_UT','Primary_Only','Primary_with_U_Primary','U_Primary_With_Sec','Sec_with_HrSec.']]"
   ]
  },
  {
   "cell_type": "code",
   "execution_count": 19,
   "metadata": {},
   "outputs": [],
   "source": [
    "df_comp.columns=['State','C_Primary','C_Upper_Primary','C_Secondary','C_High_Sec']"
   ]
  },
  {
   "cell_type": "code",
   "execution_count": 20,
   "metadata": {},
   "outputs": [
    {
     "data": {
      "text/html": [
       "<div>\n",
       "<style scoped>\n",
       "    .dataframe tbody tr th:only-of-type {\n",
       "        vertical-align: middle;\n",
       "    }\n",
       "\n",
       "    .dataframe tbody tr th {\n",
       "        vertical-align: top;\n",
       "    }\n",
       "\n",
       "    .dataframe thead th {\n",
       "        text-align: right;\n",
       "    }\n",
       "</style>\n",
       "<table border=\"1\" class=\"dataframe\">\n",
       "  <thead>\n",
       "    <tr style=\"text-align: right;\">\n",
       "      <th></th>\n",
       "      <th>State</th>\n",
       "      <th>C_Primary</th>\n",
       "      <th>C_Upper_Primary</th>\n",
       "      <th>C_Secondary</th>\n",
       "      <th>C_High_Sec</th>\n",
       "    </tr>\n",
       "  </thead>\n",
       "  <tbody>\n",
       "    <tr>\n",
       "      <td>1</td>\n",
       "      <td>Andaman &amp; Nicobar Islands</td>\n",
       "      <td>30.94</td>\n",
       "      <td>76.54</td>\n",
       "      <td>0.00</td>\n",
       "      <td>100.00</td>\n",
       "    </tr>\n",
       "    <tr>\n",
       "      <td>4</td>\n",
       "      <td>Andhra Pradesh</td>\n",
       "      <td>10.29</td>\n",
       "      <td>44.15</td>\n",
       "      <td>76.59</td>\n",
       "      <td>66.67</td>\n",
       "    </tr>\n",
       "    <tr>\n",
       "      <td>7</td>\n",
       "      <td>Arunachal Pradesh</td>\n",
       "      <td>4.06</td>\n",
       "      <td>43.83</td>\n",
       "      <td>81.58</td>\n",
       "      <td>62.96</td>\n",
       "    </tr>\n",
       "    <tr>\n",
       "      <td>10</td>\n",
       "      <td>Assam</td>\n",
       "      <td>1.13</td>\n",
       "      <td>30.75</td>\n",
       "      <td>61.40</td>\n",
       "      <td>36.97</td>\n",
       "    </tr>\n",
       "    <tr>\n",
       "      <td>13</td>\n",
       "      <td>Bihar</td>\n",
       "      <td>2.29</td>\n",
       "      <td>11.15</td>\n",
       "      <td>15.14</td>\n",
       "      <td>46.43</td>\n",
       "    </tr>\n",
       "  </tbody>\n",
       "</table>\n",
       "</div>"
      ],
      "text/plain": [
       "                        State  C_Primary  C_Upper_Primary  C_Secondary  \\\n",
       "1   Andaman & Nicobar Islands      30.94            76.54         0.00   \n",
       "4              Andhra Pradesh      10.29            44.15        76.59   \n",
       "7           Arunachal Pradesh       4.06            43.83        81.58   \n",
       "10                      Assam       1.13            30.75        61.40   \n",
       "13                      Bihar       2.29            11.15        15.14   \n",
       "\n",
       "    C_High_Sec  \n",
       "1       100.00  \n",
       "4        66.67  \n",
       "7        62.96  \n",
       "10       36.97  \n",
       "13       46.43  "
      ]
     },
     "execution_count": 20,
     "metadata": {},
     "output_type": "execute_result"
    }
   ],
   "source": [
    "df_comp.head()"
   ]
  },
  {
   "cell_type": "code",
   "execution_count": 21,
   "metadata": {},
   "outputs": [],
   "source": [
    "df_elec= df_elec[df_elec.year == '2014-15']"
   ]
  },
  {
   "cell_type": "code",
   "execution_count": 22,
   "metadata": {},
   "outputs": [],
   "source": [
    "df_elec = df_elec [['State_UT','Primary_Only','Primary_with_U_Primary','U_Primary_With_Sec','Sec_with_HrSec.']]"
   ]
  },
  {
   "cell_type": "code",
   "execution_count": 23,
   "metadata": {},
   "outputs": [
    {
     "data": {
      "text/html": [
       "<div>\n",
       "<style scoped>\n",
       "    .dataframe tbody tr th:only-of-type {\n",
       "        vertical-align: middle;\n",
       "    }\n",
       "\n",
       "    .dataframe tbody tr th {\n",
       "        vertical-align: top;\n",
       "    }\n",
       "\n",
       "    .dataframe thead th {\n",
       "        text-align: right;\n",
       "    }\n",
       "</style>\n",
       "<table border=\"1\" class=\"dataframe\">\n",
       "  <thead>\n",
       "    <tr style=\"text-align: right;\">\n",
       "      <th></th>\n",
       "      <th>State_UT</th>\n",
       "      <th>Primary_Only</th>\n",
       "      <th>Primary_with_U_Primary</th>\n",
       "      <th>U_Primary_With_Sec</th>\n",
       "      <th>Sec_with_HrSec.</th>\n",
       "    </tr>\n",
       "  </thead>\n",
       "  <tbody>\n",
       "    <tr>\n",
       "      <td>1</td>\n",
       "      <td>Andaman &amp; Nicobar Islands</td>\n",
       "      <td>80.72</td>\n",
       "      <td>96.30</td>\n",
       "      <td>0.00</td>\n",
       "      <td>100.00</td>\n",
       "    </tr>\n",
       "    <tr>\n",
       "      <td>4</td>\n",
       "      <td>Andhra Pradesh</td>\n",
       "      <td>91.08</td>\n",
       "      <td>94.70</td>\n",
       "      <td>97.11</td>\n",
       "      <td>83.33</td>\n",
       "    </tr>\n",
       "    <tr>\n",
       "      <td>7</td>\n",
       "      <td>Arunachal Pradesh</td>\n",
       "      <td>21.53</td>\n",
       "      <td>54.96</td>\n",
       "      <td>92.11</td>\n",
       "      <td>100.00</td>\n",
       "    </tr>\n",
       "    <tr>\n",
       "      <td>10</td>\n",
       "      <td>Assam</td>\n",
       "      <td>11.50</td>\n",
       "      <td>56.42</td>\n",
       "      <td>75.75</td>\n",
       "      <td>59.51</td>\n",
       "    </tr>\n",
       "    <tr>\n",
       "      <td>13</td>\n",
       "      <td>Bihar</td>\n",
       "      <td>13.76</td>\n",
       "      <td>36.32</td>\n",
       "      <td>33.07</td>\n",
       "      <td>47.95</td>\n",
       "    </tr>\n",
       "  </tbody>\n",
       "</table>\n",
       "</div>"
      ],
      "text/plain": [
       "                     State_UT  Primary_Only  Primary_with_U_Primary  \\\n",
       "1   Andaman & Nicobar Islands         80.72                   96.30   \n",
       "4              Andhra Pradesh         91.08                   94.70   \n",
       "7           Arunachal Pradesh         21.53                   54.96   \n",
       "10                      Assam         11.50                   56.42   \n",
       "13                      Bihar         13.76                   36.32   \n",
       "\n",
       "    U_Primary_With_Sec  Sec_with_HrSec.  \n",
       "1                 0.00           100.00  \n",
       "4                97.11            83.33  \n",
       "7                92.11           100.00  \n",
       "10               75.75            59.51  \n",
       "13               33.07            47.95  "
      ]
     },
     "execution_count": 23,
     "metadata": {},
     "output_type": "execute_result"
    }
   ],
   "source": [
    "df_elec.head()"
   ]
  },
  {
   "cell_type": "code",
   "execution_count": 24,
   "metadata": {},
   "outputs": [],
   "source": [
    "df_elec.columns=['State','EL_Primary','EL_Upper_Primary','EL_Secondary','EL_High_Sec']"
   ]
  },
  {
   "cell_type": "code",
   "execution_count": 25,
   "metadata": {},
   "outputs": [],
   "source": [
    "df_water = pd.read_csv(\"schools_with_water_1.csv\")\n"
   ]
  },
  {
   "cell_type": "code",
   "execution_count": null,
   "metadata": {},
   "outputs": [],
   "source": []
  },
  {
   "cell_type": "code",
   "execution_count": 26,
   "metadata": {},
   "outputs": [],
   "source": [
    "df_water= df_water[df_water.Year == '2014-15']"
   ]
  },
  {
   "cell_type": "code",
   "execution_count": 27,
   "metadata": {},
   "outputs": [
    {
     "data": {
      "text/plain": [
       "Index(['State/UT', 'Year', 'Primary_Only', 'Primary_with_U_Primary',\n",
       "       'Primary_with_U_Primary_Sec_HrSec', 'U_Primary_Only',\n",
       "       'U_Primary_With_Sec_HrSec', 'Primary_with_U_Primary_Sec',\n",
       "       'U_Primary_With_Sec', 'Sec_Only', 'Sec_with_HrSec.', 'HrSec_Only',\n",
       "       'All Schools'],\n",
       "      dtype='object')"
      ]
     },
     "execution_count": 27,
     "metadata": {},
     "output_type": "execute_result"
    }
   ],
   "source": [
    "df_water.columns"
   ]
  },
  {
   "cell_type": "code",
   "execution_count": 28,
   "metadata": {},
   "outputs": [],
   "source": [
    "df_water = df_water [['State/UT','Primary_Only','Primary_with_U_Primary','U_Primary_With_Sec','Sec_with_HrSec.']]"
   ]
  },
  {
   "cell_type": "code",
   "execution_count": 29,
   "metadata": {},
   "outputs": [],
   "source": [
    "df_water.columns=['State','W_Primary','W_Upper_Primary','W_Secondary','W_High_Sec']"
   ]
  },
  {
   "cell_type": "code",
   "execution_count": 30,
   "metadata": {},
   "outputs": [
    {
     "data": {
      "text/html": [
       "<div>\n",
       "<style scoped>\n",
       "    .dataframe tbody tr th:only-of-type {\n",
       "        vertical-align: middle;\n",
       "    }\n",
       "\n",
       "    .dataframe tbody tr th {\n",
       "        vertical-align: top;\n",
       "    }\n",
       "\n",
       "    .dataframe thead th {\n",
       "        text-align: right;\n",
       "    }\n",
       "</style>\n",
       "<table border=\"1\" class=\"dataframe\">\n",
       "  <thead>\n",
       "    <tr style=\"text-align: right;\">\n",
       "      <th></th>\n",
       "      <th>State</th>\n",
       "      <th>W_Primary</th>\n",
       "      <th>W_Upper_Primary</th>\n",
       "      <th>W_Secondary</th>\n",
       "      <th>W_High_Sec</th>\n",
       "    </tr>\n",
       "  </thead>\n",
       "  <tbody>\n",
       "    <tr>\n",
       "      <td>1</td>\n",
       "      <td>Andaman &amp; Nicobar Islands</td>\n",
       "      <td>99.55</td>\n",
       "      <td>98.77</td>\n",
       "      <td>0.00</td>\n",
       "      <td>100.00</td>\n",
       "    </tr>\n",
       "    <tr>\n",
       "      <td>4</td>\n",
       "      <td>Andhra Pradesh</td>\n",
       "      <td>91.85</td>\n",
       "      <td>96.07</td>\n",
       "      <td>97.48</td>\n",
       "      <td>100.00</td>\n",
       "    </tr>\n",
       "    <tr>\n",
       "      <td>7</td>\n",
       "      <td>Arunachal Pradesh</td>\n",
       "      <td>73.34</td>\n",
       "      <td>89.99</td>\n",
       "      <td>94.74</td>\n",
       "      <td>88.89</td>\n",
       "    </tr>\n",
       "    <tr>\n",
       "      <td>10</td>\n",
       "      <td>Assam</td>\n",
       "      <td>81.76</td>\n",
       "      <td>92.63</td>\n",
       "      <td>94.17</td>\n",
       "      <td>85.56</td>\n",
       "    </tr>\n",
       "    <tr>\n",
       "      <td>13</td>\n",
       "      <td>Bihar</td>\n",
       "      <td>87.54</td>\n",
       "      <td>98.34</td>\n",
       "      <td>98.01</td>\n",
       "      <td>98.27</td>\n",
       "    </tr>\n",
       "  </tbody>\n",
       "</table>\n",
       "</div>"
      ],
      "text/plain": [
       "                        State  W_Primary  W_Upper_Primary  W_Secondary  \\\n",
       "1   Andaman & Nicobar Islands      99.55            98.77         0.00   \n",
       "4              Andhra Pradesh      91.85            96.07        97.48   \n",
       "7           Arunachal Pradesh      73.34            89.99        94.74   \n",
       "10                      Assam      81.76            92.63        94.17   \n",
       "13                      Bihar      87.54            98.34        98.01   \n",
       "\n",
       "    W_High_Sec  \n",
       "1       100.00  \n",
       "4       100.00  \n",
       "7        88.89  \n",
       "10       85.56  \n",
       "13       98.27  "
      ]
     },
     "execution_count": 30,
     "metadata": {},
     "output_type": "execute_result"
    }
   ],
   "source": [
    "df_water.head()"
   ]
  },
  {
   "cell_type": "code",
   "execution_count": 31,
   "metadata": {},
   "outputs": [],
   "source": [
    "df_bwash = pd.read_csv(\"schools_with_btoilet.csv\")\n",
    "df_gwash = pd.read_csv(\"schools_with_gtoilet.csv\")"
   ]
  },
  {
   "cell_type": "code",
   "execution_count": 32,
   "metadata": {},
   "outputs": [
    {
     "data": {
      "text/html": [
       "<div>\n",
       "<style scoped>\n",
       "    .dataframe tbody tr th:only-of-type {\n",
       "        vertical-align: middle;\n",
       "    }\n",
       "\n",
       "    .dataframe tbody tr th {\n",
       "        vertical-align: top;\n",
       "    }\n",
       "\n",
       "    .dataframe thead th {\n",
       "        text-align: right;\n",
       "    }\n",
       "</style>\n",
       "<table border=\"1\" class=\"dataframe\">\n",
       "  <thead>\n",
       "    <tr style=\"text-align: right;\">\n",
       "      <th></th>\n",
       "      <th>State_UT</th>\n",
       "      <th>year</th>\n",
       "      <th>Primary_Only</th>\n",
       "      <th>Primary_with_U_Primary</th>\n",
       "      <th>Primary_with_U_Primary_Sec_HrSec</th>\n",
       "      <th>U_Primary_Only</th>\n",
       "      <th>U_Primary_With_Sec_HrSec</th>\n",
       "      <th>Primary_with_U_Primary_Sec</th>\n",
       "      <th>U_Primary_With_Sec</th>\n",
       "      <th>Sec_Only</th>\n",
       "      <th>Sec_with_HrSec.</th>\n",
       "      <th>HrSec_Only</th>\n",
       "      <th>All Schools</th>\n",
       "    </tr>\n",
       "  </thead>\n",
       "  <tbody>\n",
       "    <tr>\n",
       "      <td>0</td>\n",
       "      <td>Andaman &amp; Nicobar Islands</td>\n",
       "      <td>2013-14</td>\n",
       "      <td>91.58</td>\n",
       "      <td>97.37</td>\n",
       "      <td>100.00</td>\n",
       "      <td>0.00</td>\n",
       "      <td>100.00</td>\n",
       "      <td>100.00</td>\n",
       "      <td>0.00</td>\n",
       "      <td>0.00</td>\n",
       "      <td>100.00</td>\n",
       "      <td>0.00</td>\n",
       "      <td>94.52</td>\n",
       "    </tr>\n",
       "    <tr>\n",
       "      <td>1</td>\n",
       "      <td>Andaman &amp; Nicobar Islands</td>\n",
       "      <td>2014-15</td>\n",
       "      <td>100.00</td>\n",
       "      <td>100.00</td>\n",
       "      <td>100.00</td>\n",
       "      <td>100.00</td>\n",
       "      <td>100.00</td>\n",
       "      <td>100.00</td>\n",
       "      <td>0.00</td>\n",
       "      <td>0.00</td>\n",
       "      <td>100.00</td>\n",
       "      <td>0.00</td>\n",
       "      <td>100.00</td>\n",
       "    </tr>\n",
       "    <tr>\n",
       "      <td>2</td>\n",
       "      <td>Andaman &amp; Nicobar Islands</td>\n",
       "      <td>2015-16</td>\n",
       "      <td>100.00</td>\n",
       "      <td>100.00</td>\n",
       "      <td>100.00</td>\n",
       "      <td>0.00</td>\n",
       "      <td>100.00</td>\n",
       "      <td>100.00</td>\n",
       "      <td>0.00</td>\n",
       "      <td>0.00</td>\n",
       "      <td>100.00</td>\n",
       "      <td>0.00</td>\n",
       "      <td>100.00</td>\n",
       "    </tr>\n",
       "    <tr>\n",
       "      <td>3</td>\n",
       "      <td>Andhra Pradesh</td>\n",
       "      <td>2013-14</td>\n",
       "      <td>53.03</td>\n",
       "      <td>62.58</td>\n",
       "      <td>82.05</td>\n",
       "      <td>45.45</td>\n",
       "      <td>64.11</td>\n",
       "      <td>76.24</td>\n",
       "      <td>60.63</td>\n",
       "      <td>59.26</td>\n",
       "      <td>85.71</td>\n",
       "      <td>73.44</td>\n",
       "      <td>56.88</td>\n",
       "    </tr>\n",
       "    <tr>\n",
       "      <td>4</td>\n",
       "      <td>Andhra Pradesh</td>\n",
       "      <td>2014-15</td>\n",
       "      <td>57.91</td>\n",
       "      <td>76.51</td>\n",
       "      <td>96.00</td>\n",
       "      <td>75.00</td>\n",
       "      <td>93.33</td>\n",
       "      <td>91.43</td>\n",
       "      <td>77.99</td>\n",
       "      <td>80.65</td>\n",
       "      <td>60.00</td>\n",
       "      <td>86.54</td>\n",
       "      <td>65.34</td>\n",
       "    </tr>\n",
       "  </tbody>\n",
       "</table>\n",
       "</div>"
      ],
      "text/plain": [
       "                    State_UT     year  Primary_Only  Primary_with_U_Primary  \\\n",
       "0  Andaman & Nicobar Islands  2013-14         91.58                   97.37   \n",
       "1  Andaman & Nicobar Islands  2014-15        100.00                  100.00   \n",
       "2  Andaman & Nicobar Islands  2015-16        100.00                  100.00   \n",
       "3             Andhra Pradesh  2013-14         53.03                   62.58   \n",
       "4             Andhra Pradesh  2014-15         57.91                   76.51   \n",
       "\n",
       "   Primary_with_U_Primary_Sec_HrSec  U_Primary_Only  U_Primary_With_Sec_HrSec  \\\n",
       "0                            100.00            0.00                    100.00   \n",
       "1                            100.00          100.00                    100.00   \n",
       "2                            100.00            0.00                    100.00   \n",
       "3                             82.05           45.45                     64.11   \n",
       "4                             96.00           75.00                     93.33   \n",
       "\n",
       "   Primary_with_U_Primary_Sec  U_Primary_With_Sec  Sec_Only  Sec_with_HrSec.  \\\n",
       "0                      100.00                0.00      0.00           100.00   \n",
       "1                      100.00                0.00      0.00           100.00   \n",
       "2                      100.00                0.00      0.00           100.00   \n",
       "3                       76.24               60.63     59.26            85.71   \n",
       "4                       91.43               77.99     80.65            60.00   \n",
       "\n",
       "   HrSec_Only  All Schools  \n",
       "0        0.00        94.52  \n",
       "1        0.00       100.00  \n",
       "2        0.00       100.00  \n",
       "3       73.44        56.88  \n",
       "4       86.54        65.34  "
      ]
     },
     "execution_count": 32,
     "metadata": {},
     "output_type": "execute_result"
    }
   ],
   "source": [
    "df_bwash.head()"
   ]
  },
  {
   "cell_type": "code",
   "execution_count": 33,
   "metadata": {},
   "outputs": [],
   "source": [
    "df_bwash= df_bwash[df_bwash.year == '2014-15']"
   ]
  },
  {
   "cell_type": "code",
   "execution_count": 34,
   "metadata": {},
   "outputs": [],
   "source": [
    "df_bwash = df_bwash [['State_UT','Primary_Only','Primary_with_U_Primary','U_Primary_With_Sec','Sec_with_HrSec.']]"
   ]
  },
  {
   "cell_type": "code",
   "execution_count": 35,
   "metadata": {},
   "outputs": [],
   "source": [
    "df_bwash.columns=['State','B_Primary','B_Upper_Primary','B_Secondary','B_High_Sec']"
   ]
  },
  {
   "cell_type": "code",
   "execution_count": 36,
   "metadata": {},
   "outputs": [
    {
     "data": {
      "text/html": [
       "<div>\n",
       "<style scoped>\n",
       "    .dataframe tbody tr th:only-of-type {\n",
       "        vertical-align: middle;\n",
       "    }\n",
       "\n",
       "    .dataframe tbody tr th {\n",
       "        vertical-align: top;\n",
       "    }\n",
       "\n",
       "    .dataframe thead th {\n",
       "        text-align: right;\n",
       "    }\n",
       "</style>\n",
       "<table border=\"1\" class=\"dataframe\">\n",
       "  <thead>\n",
       "    <tr style=\"text-align: right;\">\n",
       "      <th></th>\n",
       "      <th>State</th>\n",
       "      <th>B_Primary</th>\n",
       "      <th>B_Upper_Primary</th>\n",
       "      <th>B_Secondary</th>\n",
       "      <th>B_High_Sec</th>\n",
       "    </tr>\n",
       "  </thead>\n",
       "  <tbody>\n",
       "    <tr>\n",
       "      <td>1</td>\n",
       "      <td>Andaman &amp; Nicobar Islands</td>\n",
       "      <td>100.00</td>\n",
       "      <td>100.00</td>\n",
       "      <td>0.00</td>\n",
       "      <td>100.00</td>\n",
       "    </tr>\n",
       "    <tr>\n",
       "      <td>4</td>\n",
       "      <td>Andhra Pradesh</td>\n",
       "      <td>57.91</td>\n",
       "      <td>76.51</td>\n",
       "      <td>77.99</td>\n",
       "      <td>60.00</td>\n",
       "    </tr>\n",
       "    <tr>\n",
       "      <td>7</td>\n",
       "      <td>Arunachal Pradesh</td>\n",
       "      <td>94.13</td>\n",
       "      <td>98.59</td>\n",
       "      <td>96.43</td>\n",
       "      <td>100.00</td>\n",
       "    </tr>\n",
       "    <tr>\n",
       "      <td>10</td>\n",
       "      <td>Assam</td>\n",
       "      <td>55.26</td>\n",
       "      <td>69.61</td>\n",
       "      <td>67.36</td>\n",
       "      <td>55.96</td>\n",
       "    </tr>\n",
       "    <tr>\n",
       "      <td>13</td>\n",
       "      <td>Bihar</td>\n",
       "      <td>61.95</td>\n",
       "      <td>87.87</td>\n",
       "      <td>73.76</td>\n",
       "      <td>77.63</td>\n",
       "    </tr>\n",
       "  </tbody>\n",
       "</table>\n",
       "</div>"
      ],
      "text/plain": [
       "                        State  B_Primary  B_Upper_Primary  B_Secondary  \\\n",
       "1   Andaman & Nicobar Islands     100.00           100.00         0.00   \n",
       "4              Andhra Pradesh      57.91            76.51        77.99   \n",
       "7           Arunachal Pradesh      94.13            98.59        96.43   \n",
       "10                      Assam      55.26            69.61        67.36   \n",
       "13                      Bihar      61.95            87.87        73.76   \n",
       "\n",
       "    B_High_Sec  \n",
       "1       100.00  \n",
       "4        60.00  \n",
       "7       100.00  \n",
       "10       55.96  \n",
       "13       77.63  "
      ]
     },
     "execution_count": 36,
     "metadata": {},
     "output_type": "execute_result"
    }
   ],
   "source": [
    "df_bwash.head()"
   ]
  },
  {
   "cell_type": "code",
   "execution_count": 37,
   "metadata": {},
   "outputs": [],
   "source": [
    "df_gwash= df_gwash[df_gwash.year == '2014-15']"
   ]
  },
  {
   "cell_type": "code",
   "execution_count": 38,
   "metadata": {},
   "outputs": [],
   "source": [
    "df_gwash = df_gwash [['State_UT','Primary_Only','Primary_with_U_Primary','U_Primary_With_Sec','Sec_with_HrSec.']]"
   ]
  },
  {
   "cell_type": "code",
   "execution_count": 39,
   "metadata": {},
   "outputs": [],
   "source": [
    "df_gwash.columns=['State','G_Primary','G_Upper_Primary','G_Secondary','G_High_Sec']"
   ]
  },
  {
   "cell_type": "code",
   "execution_count": 40,
   "metadata": {},
   "outputs": [
    {
     "data": {
      "text/html": [
       "<div>\n",
       "<style scoped>\n",
       "    .dataframe tbody tr th:only-of-type {\n",
       "        vertical-align: middle;\n",
       "    }\n",
       "\n",
       "    .dataframe tbody tr th {\n",
       "        vertical-align: top;\n",
       "    }\n",
       "\n",
       "    .dataframe thead th {\n",
       "        text-align: right;\n",
       "    }\n",
       "</style>\n",
       "<table border=\"1\" class=\"dataframe\">\n",
       "  <thead>\n",
       "    <tr style=\"text-align: right;\">\n",
       "      <th></th>\n",
       "      <th>State</th>\n",
       "      <th>G_Primary</th>\n",
       "      <th>G_Upper_Primary</th>\n",
       "      <th>G_Secondary</th>\n",
       "      <th>G_High_Sec</th>\n",
       "    </tr>\n",
       "  </thead>\n",
       "  <tbody>\n",
       "    <tr>\n",
       "      <td>1</td>\n",
       "      <td>All India</td>\n",
       "      <td>91.21</td>\n",
       "      <td>96.92</td>\n",
       "      <td>96.61</td>\n",
       "      <td>94.05</td>\n",
       "    </tr>\n",
       "    <tr>\n",
       "      <td>4</td>\n",
       "      <td>Andaman &amp; Nicobar Islands</td>\n",
       "      <td>100.00</td>\n",
       "      <td>100.00</td>\n",
       "      <td>0.00</td>\n",
       "      <td>100.00</td>\n",
       "    </tr>\n",
       "    <tr>\n",
       "      <td>7</td>\n",
       "      <td>Andhra Pradesh</td>\n",
       "      <td>97.79</td>\n",
       "      <td>98.81</td>\n",
       "      <td>99.03</td>\n",
       "      <td>100.00</td>\n",
       "    </tr>\n",
       "    <tr>\n",
       "      <td>10</td>\n",
       "      <td>Arunachal Pradesh</td>\n",
       "      <td>94.92</td>\n",
       "      <td>99.74</td>\n",
       "      <td>100.00</td>\n",
       "      <td>100.00</td>\n",
       "    </tr>\n",
       "    <tr>\n",
       "      <td>13</td>\n",
       "      <td>Assam</td>\n",
       "      <td>77.97</td>\n",
       "      <td>82.94</td>\n",
       "      <td>78.06</td>\n",
       "      <td>71.79</td>\n",
       "    </tr>\n",
       "  </tbody>\n",
       "</table>\n",
       "</div>"
      ],
      "text/plain": [
       "                        State  G_Primary  G_Upper_Primary  G_Secondary  \\\n",
       "1                   All India      91.21            96.92        96.61   \n",
       "4   Andaman & Nicobar Islands     100.00           100.00         0.00   \n",
       "7              Andhra Pradesh      97.79            98.81        99.03   \n",
       "10          Arunachal Pradesh      94.92            99.74       100.00   \n",
       "13                      Assam      77.97            82.94        78.06   \n",
       "\n",
       "    G_High_Sec  \n",
       "1        94.05  \n",
       "4       100.00  \n",
       "7       100.00  \n",
       "10      100.00  \n",
       "13       71.79  "
      ]
     },
     "execution_count": 40,
     "metadata": {},
     "output_type": "execute_result"
    }
   ],
   "source": [
    "df_gwash.head()"
   ]
  },
  {
   "cell_type": "code",
   "execution_count": null,
   "metadata": {},
   "outputs": [],
   "source": []
  },
  {
   "cell_type": "code",
   "execution_count": null,
   "metadata": {},
   "outputs": [],
   "source": []
  },
  {
   "cell_type": "code",
   "execution_count": 93,
   "metadata": {},
   "outputs": [],
   "source": [
    "df1=pd.merge(df_E, df_comp, how='inner', on=['State'])"
   ]
  },
  {
   "cell_type": "code",
   "execution_count": 94,
   "metadata": {},
   "outputs": [],
   "source": [
    "df1=pd.merge(df1, df_elec, how='inner', on=['State'])"
   ]
  },
  {
   "cell_type": "code",
   "execution_count": 95,
   "metadata": {},
   "outputs": [],
   "source": [
    "df1=pd.merge(df1, df_water, how='inner', on=['State'])"
   ]
  },
  {
   "cell_type": "code",
   "execution_count": 96,
   "metadata": {},
   "outputs": [],
   "source": [
    "df1=pd.merge(df1,df_bwash,how='inner', on=['State'])"
   ]
  },
  {
   "cell_type": "code",
   "execution_count": 97,
   "metadata": {},
   "outputs": [],
   "source": [
    "df1=pd.merge(df1,df_gwash,how='inner', on=['State'])"
   ]
  },
  {
   "cell_type": "code",
   "execution_count": 98,
   "metadata": {},
   "outputs": [
    {
     "data": {
      "text/html": [
       "<div>\n",
       "<style scoped>\n",
       "    .dataframe tbody tr th:only-of-type {\n",
       "        vertical-align: middle;\n",
       "    }\n",
       "\n",
       "    .dataframe tbody tr th {\n",
       "        vertical-align: top;\n",
       "    }\n",
       "\n",
       "    .dataframe thead th {\n",
       "        text-align: right;\n",
       "    }\n",
       "</style>\n",
       "<table border=\"1\" class=\"dataframe\">\n",
       "  <thead>\n",
       "    <tr style=\"text-align: right;\">\n",
       "      <th></th>\n",
       "      <th>State</th>\n",
       "      <th>E_Primary</th>\n",
       "      <th>E_Upper_Primary</th>\n",
       "      <th>E_Secondary</th>\n",
       "      <th>E_High_Sec</th>\n",
       "      <th>C_Primary</th>\n",
       "      <th>C_Upper_Primary</th>\n",
       "      <th>C_Secondary</th>\n",
       "      <th>C_High_Sec</th>\n",
       "      <th>EL_Primary</th>\n",
       "      <th>...</th>\n",
       "      <th>W_Secondary</th>\n",
       "      <th>W_High_Sec</th>\n",
       "      <th>B_Primary</th>\n",
       "      <th>B_Upper_Primary</th>\n",
       "      <th>B_Secondary</th>\n",
       "      <th>B_High_Sec</th>\n",
       "      <th>G_Primary</th>\n",
       "      <th>G_Upper_Primary</th>\n",
       "      <th>G_Secondary</th>\n",
       "      <th>G_High_Sec</th>\n",
       "    </tr>\n",
       "  </thead>\n",
       "  <tbody>\n",
       "    <tr>\n",
       "      <td>0</td>\n",
       "      <td>Andaman &amp; Nicobar Islands</td>\n",
       "      <td>90.92</td>\n",
       "      <td>87.62</td>\n",
       "      <td>92.88</td>\n",
       "      <td>95.65</td>\n",
       "      <td>30.94</td>\n",
       "      <td>76.54</td>\n",
       "      <td>0.00</td>\n",
       "      <td>100.00</td>\n",
       "      <td>80.72</td>\n",
       "      <td>...</td>\n",
       "      <td>0.00</td>\n",
       "      <td>100.00</td>\n",
       "      <td>100.00</td>\n",
       "      <td>100.00</td>\n",
       "      <td>0.00</td>\n",
       "      <td>100.00</td>\n",
       "      <td>100.00</td>\n",
       "      <td>100.00</td>\n",
       "      <td>0.00</td>\n",
       "      <td>100.00</td>\n",
       "    </tr>\n",
       "    <tr>\n",
       "      <td>1</td>\n",
       "      <td>Andhra Pradesh</td>\n",
       "      <td>88.21</td>\n",
       "      <td>79.47</td>\n",
       "      <td>72.40</td>\n",
       "      <td>51.63</td>\n",
       "      <td>10.29</td>\n",
       "      <td>44.15</td>\n",
       "      <td>76.59</td>\n",
       "      <td>66.67</td>\n",
       "      <td>91.08</td>\n",
       "      <td>...</td>\n",
       "      <td>97.48</td>\n",
       "      <td>100.00</td>\n",
       "      <td>57.91</td>\n",
       "      <td>76.51</td>\n",
       "      <td>77.99</td>\n",
       "      <td>60.00</td>\n",
       "      <td>97.79</td>\n",
       "      <td>98.81</td>\n",
       "      <td>99.03</td>\n",
       "      <td>100.00</td>\n",
       "    </tr>\n",
       "    <tr>\n",
       "      <td>2</td>\n",
       "      <td>Arunachal Pradesh</td>\n",
       "      <td>128.13</td>\n",
       "      <td>122.53</td>\n",
       "      <td>91.62</td>\n",
       "      <td>68.71</td>\n",
       "      <td>4.06</td>\n",
       "      <td>43.83</td>\n",
       "      <td>81.58</td>\n",
       "      <td>62.96</td>\n",
       "      <td>21.53</td>\n",
       "      <td>...</td>\n",
       "      <td>94.74</td>\n",
       "      <td>88.89</td>\n",
       "      <td>94.13</td>\n",
       "      <td>98.59</td>\n",
       "      <td>96.43</td>\n",
       "      <td>100.00</td>\n",
       "      <td>94.92</td>\n",
       "      <td>99.74</td>\n",
       "      <td>100.00</td>\n",
       "      <td>100.00</td>\n",
       "    </tr>\n",
       "    <tr>\n",
       "      <td>3</td>\n",
       "      <td>Assam</td>\n",
       "      <td>114.96</td>\n",
       "      <td>95.86</td>\n",
       "      <td>74.78</td>\n",
       "      <td>33.97</td>\n",
       "      <td>1.13</td>\n",
       "      <td>30.75</td>\n",
       "      <td>61.40</td>\n",
       "      <td>36.97</td>\n",
       "      <td>11.50</td>\n",
       "      <td>...</td>\n",
       "      <td>94.17</td>\n",
       "      <td>85.56</td>\n",
       "      <td>55.26</td>\n",
       "      <td>69.61</td>\n",
       "      <td>67.36</td>\n",
       "      <td>55.96</td>\n",
       "      <td>77.97</td>\n",
       "      <td>82.94</td>\n",
       "      <td>78.06</td>\n",
       "      <td>71.79</td>\n",
       "    </tr>\n",
       "    <tr>\n",
       "      <td>4</td>\n",
       "      <td>Bihar</td>\n",
       "      <td>101.09</td>\n",
       "      <td>98.07</td>\n",
       "      <td>69.09</td>\n",
       "      <td>31.79</td>\n",
       "      <td>2.29</td>\n",
       "      <td>11.15</td>\n",
       "      <td>15.14</td>\n",
       "      <td>46.43</td>\n",
       "      <td>13.76</td>\n",
       "      <td>...</td>\n",
       "      <td>98.01</td>\n",
       "      <td>98.27</td>\n",
       "      <td>61.95</td>\n",
       "      <td>87.87</td>\n",
       "      <td>73.76</td>\n",
       "      <td>77.63</td>\n",
       "      <td>63.46</td>\n",
       "      <td>91.16</td>\n",
       "      <td>79.27</td>\n",
       "      <td>80.29</td>\n",
       "    </tr>\n",
       "  </tbody>\n",
       "</table>\n",
       "<p>5 rows × 25 columns</p>\n",
       "</div>"
      ],
      "text/plain": [
       "                       State  E_Primary  E_Upper_Primary  E_Secondary  \\\n",
       "0  Andaman & Nicobar Islands      90.92            87.62        92.88   \n",
       "1             Andhra Pradesh      88.21            79.47        72.40   \n",
       "2          Arunachal Pradesh     128.13           122.53        91.62   \n",
       "3                      Assam     114.96            95.86        74.78   \n",
       "4                      Bihar     101.09            98.07        69.09   \n",
       "\n",
       "  E_High_Sec  C_Primary  C_Upper_Primary  C_Secondary  C_High_Sec  EL_Primary  \\\n",
       "0      95.65      30.94            76.54         0.00      100.00       80.72   \n",
       "1      51.63      10.29            44.15        76.59       66.67       91.08   \n",
       "2      68.71       4.06            43.83        81.58       62.96       21.53   \n",
       "3      33.97       1.13            30.75        61.40       36.97       11.50   \n",
       "4      31.79       2.29            11.15        15.14       46.43       13.76   \n",
       "\n",
       "   ...  W_Secondary  W_High_Sec  B_Primary  B_Upper_Primary  B_Secondary  \\\n",
       "0  ...         0.00      100.00     100.00           100.00         0.00   \n",
       "1  ...        97.48      100.00      57.91            76.51        77.99   \n",
       "2  ...        94.74       88.89      94.13            98.59        96.43   \n",
       "3  ...        94.17       85.56      55.26            69.61        67.36   \n",
       "4  ...        98.01       98.27      61.95            87.87        73.76   \n",
       "\n",
       "   B_High_Sec  G_Primary  G_Upper_Primary  G_Secondary  G_High_Sec  \n",
       "0      100.00     100.00           100.00         0.00      100.00  \n",
       "1       60.00      97.79            98.81        99.03      100.00  \n",
       "2      100.00      94.92            99.74       100.00      100.00  \n",
       "3       55.96      77.97            82.94        78.06       71.79  \n",
       "4       77.63      63.46            91.16        79.27       80.29  \n",
       "\n",
       "[5 rows x 25 columns]"
      ]
     },
     "execution_count": 98,
     "metadata": {},
     "output_type": "execute_result"
    }
   ],
   "source": [
    "df1.head()"
   ]
  },
  {
   "cell_type": "code",
   "execution_count": null,
   "metadata": {},
   "outputs": [],
   "source": []
  },
  {
   "cell_type": "code",
   "execution_count": 99,
   "metadata": {},
   "outputs": [
    {
     "data": {
      "text/plain": [
       "Index(['State', 'E_Primary', 'E_Upper_Primary', 'E_Secondary', 'E_High_Sec',\n",
       "       'C_Primary', 'C_Upper_Primary', 'C_Secondary', 'C_High_Sec',\n",
       "       'EL_Primary', 'EL_Upper_Primary', 'EL_Secondary', 'EL_High_Sec',\n",
       "       'W_Primary', 'W_Upper_Primary', 'W_Secondary', 'W_High_Sec',\n",
       "       'B_Primary', 'B_Upper_Primary', 'B_Secondary', 'B_High_Sec',\n",
       "       'G_Primary', 'G_Upper_Primary', 'G_Secondary', 'G_High_Sec'],\n",
       "      dtype='object')"
      ]
     },
     "execution_count": 99,
     "metadata": {},
     "output_type": "execute_result"
    }
   ],
   "source": [
    "df1.columns"
   ]
  },
  {
   "cell_type": "code",
   "execution_count": 103,
   "metadata": {},
   "outputs": [],
   "source": [
    "choose_state = pw.Dropdown(description = \"Choose State\",\n",
    "                            options = ['Andaman Nicobar Islands', 'Andhra Pradesh', 'Assam', 'Bihar', 'Chandigarh',\n",
    "                                       'Dadra Nagar Haveli','Daman Diu', 'Delhi', 'Goa', 'Gujarat', \n",
    "                                       'Haryana','Himachal Pradesh', 'Jammu and Kashmir', 'Jharkhand',\n",
    "                                       'Karnataka', 'Kerala', 'Lakshadweep','Madhya Pradesh', 'Maharashtra', \n",
    "                                       'Manipur', 'Meghalaya', 'Mizoram', 'Nagaland','Odisha', 'Puducherry', \n",
    "                                       'Punjab', 'Rajasthan', 'Sikkim','Tamil Nadu', 'Telangana','Tripura','Uttar Pradesh',\n",
    "                                       'Uttarakhand','West Bengal'],\n",
    "                            value = \"Tamil Nadu\")\n",
    "                         \n",
    "\n",
    "Primary = df1.groupby(\"State\")[\"E_Primary\"].sum()\n",
    "Upper_Primary = df1.groupby(\"State\")[\"E_Upper_Primary\"].sum()\n",
    "Secondary = df1.groupby(\"State\")[\"E_Secondary\"].sum()\n",
    "Higher_Secondary = df1.groupby(\"State\")[\"E_High_Sec\"].sum()\n",
    "E_Primary = df1.groupby(\"State\")[\"EL_Primary\"].sum()\n",
    "E_Upper_Primary = df1.groupby(\"State\")[\"EL_Upper_Primary\"].sum()\n",
    "E_Secondary = df1.groupby(\"State\")[\"EL_Secondary\"].sum()\n",
    "E_Higher_Secondary = df1.groupby(\"State\")[\"EL_High_Sec\"].sum()\n",
    "C_Primary = df1.groupby(\"State\")[\"C_Primary\"].sum()\n",
    "C_Upper_Primary = df1.groupby(\"State\")[\"C_Upper_Primary\"].sum()\n",
    "C_Secondary = df1.groupby(\"State\")[\"C_Secondary\"].sum()\n",
    "C_Higher_Secondary = df1.groupby(\"State\")[\"C_High_Sec\"].sum()\n",
    "W_Primary = df1.groupby(\"State\")[\"W_Primary\"].sum()\n",
    "W_Upper_Primary = df1.groupby(\"State\")[\"W_Upper_Primary\"].sum()\n",
    "W_Secondary = df1.groupby(\"State\")[\"W_Secondary\"].sum()\n",
    "W_Higher_Secondary = df1.groupby(\"State\")[\"W_High_Sec\"].sum()\n",
    "B_Primary = df1.groupby(\"State\")[\"B_Primary\"].sum()\n",
    "B_Upper_Primary = df1.groupby(\"State\")[\"B_Upper_Primary\"].sum()\n",
    "B_Secondary = df1.groupby(\"State\")[\"B_Secondary\"].sum()\n",
    "B_Higher_Secondary = df1.groupby(\"State\")[\"B_High_Sec\"].sum()\n",
    "G_Primary = df1.groupby(\"State\")[\"G_Primary\"].sum()\n",
    "G_Upper_Primary = df1.groupby(\"State\")[\"G_Upper_Primary\"].sum()\n",
    "G_Secondary = df1.groupby(\"State\")[\"G_Secondary\"].sum()\n",
    "G_Higher_Secondary = df1.groupby(\"State\")[\"G_High_Sec\"].sum()\n",
    "\n",
    "\n",
    "\n",
    "def change_state(change):\n",
    "    a = Primary[choose_state.value]\n",
    "    b = Upper_Primary[choose_state.value]\n",
    "    c = Secondary[choose_state.value]\n",
    "    d = Higher_Secondary[choose_state.value]\n",
    "    e= E_Primary[choose_state.value]\n",
    "    f= E_Upper_Primary[choose_state.value]\n",
    "    g= E_Secondary[choose_state.value]\n",
    "    h= E_Higher_Secondary[choose_state.value]\n",
    "    i= C_Primary[choose_state.value]\n",
    "    j= C_Upper_Primary[choose_state.value]\n",
    "    k= C_Secondary[choose_state.value]\n",
    "    l= C_Higher_Secondary[choose_state.value]\n",
    "    m= W_Primary[choose_state.value]\n",
    "    n= W_Upper_Primary[choose_state.value]\n",
    "    o= W_Secondary[choose_state.value]\n",
    "    p= W_Higher_Secondary[choose_state.value]\n",
    "    q= B_Primary[choose_state.value]\n",
    "    r= B_Upper_Primary[choose_state.value]\n",
    "    s= B_Secondary[choose_state.value]\n",
    "    t= B_Higher_Secondary[choose_state.value]\n",
    "    u= G_Primary[choose_state.value]\n",
    "    v= G_Upper_Primary[choose_state.value]\n",
    "    w= G_Secondary[choose_state.value]\n",
    "    x= G_Higher_Secondary[choose_state.value]\n",
    "     \n",
    "       \n",
    "    marks = (a,e,i,m,q,u,b,f,j,n,r,v,c,g,k,o,s,w,d,h,l,p,t,x)\n",
    "    scatters.x = labels\n",
    "    scatters.y = marks\n",
    "\n",
    "labels = (\"Primary\",\"E\",\"C\",\"W\",\"BW\",\"GW\",\"UpperPri\",\"uE\",\"uC\",\"uW\",\"uBW\",\"uGW\",\"Sec\",\"sE\",\"sC\",\"sW\",\"sBW\",\"sGW\",\"HSec\",\"hE\",\"hC\",\"hW\",\"hBW\",\"hGW\")\n",
    "a= Primary[\"Tamil Nadu\"]\n",
    "b = Upper_Primary[\"Tamil Nadu\"]\n",
    "c = Secondary[\"Tamil Nadu\"]\n",
    "d = Higher_Secondary[\"Tamil Nadu\"]\n",
    "e= E_Primary[\"Tamil Nadu\"]\n",
    "f= E_Upper_Primary[\"Tamil Nadu\"]\n",
    "g= E_Secondary[\"Tamil Nadu\"]\n",
    "h= E_Higher_Secondary[\"Tamil Nadu\"]\n",
    "i= C_Primary[\"Tamil Nadu\"]\n",
    "j= C_Upper_Primary[\"Tamil Nadu\"]\n",
    "k= C_Secondary[\"Tamil Nadu\"]\n",
    "l= C_Higher_Secondary[\"Tamil Nadu\"]\n",
    "m= W_Primary[\"Tamil Nadu\"]\n",
    "n= W_Upper_Primary[\"Tamil Nadu\"]\n",
    "o= W_Secondary[\"Tamil Nadu\"]\n",
    "p= W_Higher_Secondary[\"Tamil Nadu\"]\n",
    "q= B_Primary[\"Tamil Nadu\"]\n",
    "r= B_Upper_Primary[\"Tamil Nadu\"]\n",
    "s= B_Secondary[\"Tamil Nadu\"]\n",
    "t= B_Higher_Secondary[\"Tamil Nadu\"]\n",
    "u= G_Primary[\"Tamil Nadu\"]\n",
    "v= G_Upper_Primary[\"Tamil Nadu\"]\n",
    "w= G_Secondary[\"Tamil Nadu\"]\n",
    "x= G_Higher_Secondary[\"Tamil Nadu\"]\n",
    "\n",
    "\n",
    "\n",
    "marks = [a,e,i,m,q,u,b,f,j,n,r,v,c,g,k,o,s,w,d,h,l,p,t,x]\n",
    "\n",
    "choose_state.observe(change_state)\n",
    "\n",
    "x_sc = bqplot.OrdinalScale()\n",
    "y_sc = bqplot.LinearScale()\n",
    "\n",
    "x_ax = bqplot.Axis(scale = x_sc, label = \"Facilities in Different Levels\")\n",
    "y_ax = bqplot.Axis(scale = y_sc , label = \"Percentage\", orientation = 'vertical')\n",
    "\n",
    "tooltip = bqplot.Tooltip(fields = [\"x\",\"y\"])\n",
    "scatters = bqplot.Scatter(x = labels,\n",
    "                         y = marks,\n",
    "                         scales = {'x': x_sc, 'y': y_sc},\n",
    "                         tooltip = tooltip,\n",
    "                         colors=['#3182BD'], stroke='black')\n",
    "fig = bqplot.Figure(marks = [scatters],axes =[x_ax, y_ax])"
   ]
  },
  {
   "cell_type": "code",
   "execution_count": 104,
   "metadata": {},
   "outputs": [
    {
     "data": {
      "application/vnd.jupyter.widget-view+json": {
       "model_id": "a8d7d20a895a4355867e086514934a22",
       "version_major": 2,
       "version_minor": 0
      },
      "text/plain": [
       "Dropdown(description='Choose State', index=28, options=('Andaman Nicobar Islands', 'Andhra Pradesh', 'Assam', …"
      ]
     },
     "metadata": {},
     "output_type": "display_data"
    },
    {
     "data": {
      "application/vnd.jupyter.widget-view+json": {
       "model_id": "1efea8fb18084c27b1efae6753002824",
       "version_major": 2,
       "version_minor": 0
      },
      "text/plain": [
       "Figure(axes=[Axis(label='Facilities in Different Levels', scale=OrdinalScale(), side='bottom'), Axis(label='Pe…"
      ]
     },
     "metadata": {},
     "output_type": "display_data"
    }
   ],
   "source": [
    "display(choose_state)\n",
    "display(fig)"
   ]
  },
  {
   "cell_type": "code",
   "execution_count": null,
   "metadata": {},
   "outputs": [],
   "source": []
  }
 ],
 "metadata": {
  "kernelspec": {
   "display_name": "Python 3",
   "language": "python",
   "name": "python3"
  },
  "language_info": {
   "codemirror_mode": {
    "name": "ipython",
    "version": 3
   },
   "file_extension": ".py",
   "mimetype": "text/x-python",
   "name": "python",
   "nbconvert_exporter": "python",
   "pygments_lexer": "ipython3",
   "version": "3.6.5"
  }
 },
 "nbformat": 4,
 "nbformat_minor": 2
}
